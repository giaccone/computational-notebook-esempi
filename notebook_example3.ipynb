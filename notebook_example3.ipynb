{
  "nbformat": 4,
  "nbformat_minor": 0,
  "metadata": {
    "colab": {
      "name": "notebook_example3.ipynb",
      "provenance": [],
      "collapsed_sections": []
    },
    "kernelspec": {
      "name": "python3",
      "display_name": "Python 3"
    },
    "language_info": {
      "name": "python"
    },
    "widgets": {
      "application/vnd.jupyter.widget-state+json": {
        "fcb29e7112e645e3970f3ca5060ef421": {
          "model_module": "@jupyter-widgets/controls",
          "model_name": "VBoxModel",
          "model_module_version": "1.5.0",
          "state": {
            "_view_name": "VBoxView",
            "_dom_classes": [
              "widget-interact"
            ],
            "_model_name": "VBoxModel",
            "_view_module": "@jupyter-widgets/controls",
            "_model_module_version": "1.5.0",
            "_view_count": null,
            "_view_module_version": "1.5.0",
            "box_style": "",
            "layout": "IPY_MODEL_46035900a8434758b62e120d67484bbe",
            "_model_module": "@jupyter-widgets/controls",
            "children": [
              "IPY_MODEL_c595640ae6fe4673a9b8452b117c59eb",
              "IPY_MODEL_a9015f1c859044f8b36ea8d7d73fce9d"
            ]
          }
        },
        "46035900a8434758b62e120d67484bbe": {
          "model_module": "@jupyter-widgets/base",
          "model_name": "LayoutModel",
          "model_module_version": "1.2.0",
          "state": {
            "_view_name": "LayoutView",
            "grid_template_rows": null,
            "right": null,
            "justify_content": null,
            "_view_module": "@jupyter-widgets/base",
            "overflow": null,
            "_model_module_version": "1.2.0",
            "_view_count": null,
            "flex_flow": null,
            "width": null,
            "min_width": null,
            "border": null,
            "align_items": null,
            "bottom": null,
            "_model_module": "@jupyter-widgets/base",
            "top": null,
            "grid_column": null,
            "overflow_y": null,
            "overflow_x": null,
            "grid_auto_flow": null,
            "grid_area": null,
            "grid_template_columns": null,
            "flex": null,
            "_model_name": "LayoutModel",
            "justify_items": null,
            "grid_row": null,
            "max_height": null,
            "align_content": null,
            "visibility": null,
            "align_self": null,
            "height": null,
            "min_height": null,
            "padding": null,
            "grid_auto_rows": null,
            "grid_gap": null,
            "max_width": null,
            "order": null,
            "_view_module_version": "1.2.0",
            "grid_template_areas": null,
            "object_position": null,
            "object_fit": null,
            "grid_auto_columns": null,
            "margin": null,
            "display": null,
            "left": null
          }
        },
        "c595640ae6fe4673a9b8452b117c59eb": {
          "model_module": "@jupyter-widgets/controls",
          "model_name": "IntSliderModel",
          "model_module_version": "1.5.0",
          "state": {
            "_view_name": "IntSliderView",
            "style": "IPY_MODEL_9115406d8134439abd70fa44bdb55470",
            "_dom_classes": [],
            "description": "iter_num",
            "step": 1,
            "_model_name": "IntSliderModel",
            "orientation": "horizontal",
            "max": 10,
            "_view_module": "@jupyter-widgets/controls",
            "_model_module_version": "1.5.0",
            "value": 2,
            "_view_count": null,
            "disabled": false,
            "_view_module_version": "1.5.0",
            "min": 1,
            "continuous_update": true,
            "readout_format": "d",
            "description_tooltip": null,
            "readout": true,
            "_model_module": "@jupyter-widgets/controls",
            "layout": "IPY_MODEL_56cc298d5e74418a9281b0d428481223"
          }
        },
        "a9015f1c859044f8b36ea8d7d73fce9d": {
          "model_module": "@jupyter-widgets/output",
          "model_name": "OutputModel",
          "model_module_version": "1.0.0",
          "state": {
            "_view_name": "OutputView",
            "msg_id": "8e9a6e916dbd44f6cdf48c59b1fe41c5",
            "_dom_classes": [],
            "_model_name": "OutputModel",
            "outputs": [
              {
                "output_type": "display_data",
                "data": {
                  "image/png": "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\n",
                  "text/plain": "<Figure size 720x432 with 1 Axes>"
                },
                "metadata": {
                  "needs_background": "light"
                }
              }
            ],
            "_view_module": "@jupyter-widgets/output",
            "_model_module_version": "1.0.0",
            "_view_count": null,
            "_view_module_version": "1.0.0",
            "layout": "IPY_MODEL_52231edf5bc049a98a8df938280d110a",
            "_model_module": "@jupyter-widgets/output"
          }
        },
        "9115406d8134439abd70fa44bdb55470": {
          "model_module": "@jupyter-widgets/controls",
          "model_name": "SliderStyleModel",
          "model_module_version": "1.5.0",
          "state": {
            "_view_name": "StyleView",
            "handle_color": null,
            "_model_name": "SliderStyleModel",
            "description_width": "",
            "_view_module": "@jupyter-widgets/base",
            "_model_module_version": "1.5.0",
            "_view_count": null,
            "_view_module_version": "1.2.0",
            "_model_module": "@jupyter-widgets/controls"
          }
        },
        "56cc298d5e74418a9281b0d428481223": {
          "model_module": "@jupyter-widgets/base",
          "model_name": "LayoutModel",
          "model_module_version": "1.2.0",
          "state": {
            "_view_name": "LayoutView",
            "grid_template_rows": null,
            "right": null,
            "justify_content": null,
            "_view_module": "@jupyter-widgets/base",
            "overflow": null,
            "_model_module_version": "1.2.0",
            "_view_count": null,
            "flex_flow": null,
            "width": null,
            "min_width": null,
            "border": null,
            "align_items": null,
            "bottom": null,
            "_model_module": "@jupyter-widgets/base",
            "top": null,
            "grid_column": null,
            "overflow_y": null,
            "overflow_x": null,
            "grid_auto_flow": null,
            "grid_area": null,
            "grid_template_columns": null,
            "flex": null,
            "_model_name": "LayoutModel",
            "justify_items": null,
            "grid_row": null,
            "max_height": null,
            "align_content": null,
            "visibility": null,
            "align_self": null,
            "height": null,
            "min_height": null,
            "padding": null,
            "grid_auto_rows": null,
            "grid_gap": null,
            "max_width": null,
            "order": null,
            "_view_module_version": "1.2.0",
            "grid_template_areas": null,
            "object_position": null,
            "object_fit": null,
            "grid_auto_columns": null,
            "margin": null,
            "display": null,
            "left": null
          }
        },
        "52231edf5bc049a98a8df938280d110a": {
          "model_module": "@jupyter-widgets/base",
          "model_name": "LayoutModel",
          "model_module_version": "1.2.0",
          "state": {
            "_view_name": "LayoutView",
            "grid_template_rows": null,
            "right": null,
            "justify_content": null,
            "_view_module": "@jupyter-widgets/base",
            "overflow": null,
            "_model_module_version": "1.2.0",
            "_view_count": null,
            "flex_flow": null,
            "width": null,
            "min_width": null,
            "border": null,
            "align_items": null,
            "bottom": null,
            "_model_module": "@jupyter-widgets/base",
            "top": null,
            "grid_column": null,
            "overflow_y": null,
            "overflow_x": null,
            "grid_auto_flow": null,
            "grid_area": null,
            "grid_template_columns": null,
            "flex": null,
            "_model_name": "LayoutModel",
            "justify_items": null,
            "grid_row": null,
            "max_height": null,
            "align_content": null,
            "visibility": null,
            "align_self": null,
            "height": null,
            "min_height": null,
            "padding": null,
            "grid_auto_rows": null,
            "grid_gap": null,
            "max_width": null,
            "order": null,
            "_view_module_version": "1.2.0",
            "grid_template_areas": null,
            "object_position": null,
            "object_fit": null,
            "grid_auto_columns": null,
            "margin": null,
            "display": null,
            "left": null
          }
        }
      }
    }
  },
  "cells": [
    {
      "cell_type": "markdown",
      "source": [
        "**Author**: Luca Giaccone (luca.giaccone@polito.it)\n"
      ],
      "metadata": {
        "id": "qbdq9LE4qrtz"
      }
    },
    {
      "cell_type": "markdown",
      "source": [
        "# Esempio di computational notebook (3)\n",
        "Troviamo la soluzione del problema non-lineare\n",
        "\n",
        "$$x^2 = 5$$\n",
        "\n",
        "applicando il metodo delle tangenti.\n",
        "\n",
        "Trasformiamo il problema in:\n",
        "\n",
        "$$f(x) = x^2 - 5 = 0$$\n",
        "\n",
        "Applichiamo lo schema rosolutivo:\n",
        "\n",
        "$$x_{k+1} = x_k - \\dfrac{f(x_k)}{f'(x_k)}$$\n",
        "\n",
        "dove, nel nostro caso:\n",
        "* $f(x) = x^2 - 5$\n",
        "* $f'(x) = 2x$\n",
        "\n"
      ],
      "metadata": {
        "id": "tLMeffxp33Lb"
      }
    },
    {
      "cell_type": "markdown",
      "source": [
        "## Visualizziamo il problema graficamente"
      ],
      "metadata": {
        "id": "nNyGLsUdbqvR"
      }
    },
    {
      "cell_type": "code",
      "execution_count": null,
      "metadata": {
        "id": "7_l-m8Xz3k08"
      },
      "outputs": [],
      "source": [
        "# libraries\n",
        "import numpy as np\n",
        "import matplotlib.pyplot as plt\n",
        "from ipywidgets import interact, IntSlider\n",
        "from matplotlib.ticker import FormatStrFormatter"
      ]
    },
    {
      "cell_type": "code",
      "source": [
        "# funzione f\n",
        "f = lambda x: x**2 - 5"
      ],
      "metadata": {
        "id": "gqz9AF-bdOsP"
      },
      "execution_count": null,
      "outputs": []
    },
    {
      "cell_type": "code",
      "source": [
        "# static plot\n",
        "x = np.linspace(1, 4, 10)\n",
        "plt.figure(figsize=(10,6))\n",
        "plt.plot(x, f(x), linewidth=3, label=\"$f(x) = x^2 - 5$\")\n",
        "plt.plot(x, np.zeros_like(x), 'k--', linewidth=3)\n",
        "plt.grid()\n",
        "plt.xticks([1, np.sqrt(5), 4], fontsize=18)\n",
        "plt.yticks([0], fontsize=18)\n",
        "plt.xlabel('$x$', fontsize=18)\n",
        "plt.legend(fontsize=18)\n",
        "plt.title(\"la soluzione è {:.3f}\".format(np.sqrt(5)),fontsize=18);"
      ],
      "metadata": {
        "colab": {
          "base_uri": "https://localhost:8080/",
          "height": 424
        },
        "id": "4NMnFkcPDHB5",
        "outputId": "7a54bf6b-1f4b-4669-9461-33d7f28002b8"
      },
      "execution_count": null,
      "outputs": [
        {
          "output_type": "display_data",
          "data": {
            "image/png": "[encoded data removed]",
            "text/plain": [
              "<Figure size 720x432 with 1 Axes>"
            ]
          },
          "metadata": {
            "needs_background": "light"
          }
        }
      ]
    },
    {
      "cell_type": "markdown",
      "source": [
        "## Implementiamo il metodo delle tangenti"
      ],
      "metadata": {
        "id": "X_Tt82Efc6Ck"
      }
    },
    {
      "cell_type": "code",
      "source": [
        "# funzione f'\n",
        "fprime = lambda x: 2*x\n",
        "\n",
        "# step che dato x_k in input, fornisce x_k+1 in output\n",
        "def next(x):\n",
        "  return x - (f(x) / fprime(x))\n",
        "\n",
        "# funzione che calcola la tangente in xk\n",
        "def tangent(x, xk):\n",
        "  return f(xk) + fprime(xk) * (x - xk)"
      ],
      "metadata": {
        "id": "BchVaqWE4Oz8"
      },
      "execution_count": null,
      "outputs": []
    },
    {
      "cell_type": "markdown",
      "source": [
        "## Visualizzazione in forma numerica"
      ],
      "metadata": {
        "id": "OxEXL8-FdmOm"
      }
    },
    {
      "cell_type": "code",
      "source": [
        "# Valore iniziale e numero di iterazioni\n",
        "x0 = 0.5\n",
        "iter_num = 7\n",
        "\n",
        "x = [x0]\n",
        "print(\"       x0 = {:.3f}\".format(x[-1]))\n",
        "for k in range(iter_num):\n",
        "  x.append(next(x[-1]))\n",
        "  delta = abs((x[-1] - x[-2]) / x[-2]) * 100\n",
        "  print(\"x{} --> x{} = {:.3f}   variazione {:.2f} %\".format(k, k+1, x[-1], delta))"
      ],
      "metadata": {
        "id": "mWyosM8AzW8G",
        "colab": {
          "base_uri": "https://localhost:8080/"
        },
        "outputId": "8db0151b-002f-4663-c16b-2155ec5ada04"
      },
      "execution_count": null,
      "outputs": [
        {
          "output_type": "stream",
          "name": "stdout",
          "text": [
            "       x0 = 0.500\n",
            "x0 --> x1 = 5.250   variazione 950.00 %\n",
            "x1 --> x2 = 3.101   variazione 40.93 %\n",
            "x2 --> x3 = 2.357   variazione 24.01 %\n",
            "x3 --> x4 = 2.239   variazione 4.99 %\n",
            "x4 --> x5 = 2.236   variazione 0.14 %\n",
            "x5 --> x6 = 2.236   variazione 0.00 %\n",
            "x6 --> x7 = 2.236   variazione 0.00 %\n"
          ]
        }
      ]
    },
    {
      "cell_type": "markdown",
      "source": [
        "## Visualizzazione in forma grafica"
      ],
      "metadata": {
        "id": "kvtVtaMSeQXb"
      }
    },
    {
      "cell_type": "code",
      "source": [
        "# Valore iniziale e numero di iterazioni\n",
        "x0 = 0.5\n",
        "iter_num = 3\n",
        "\n",
        "def fun(iter_num):\n",
        "  xnew = x0\n",
        "  for k in range(iter_num):\n",
        "    xold = xnew\n",
        "    xnew = next(xnew)\n",
        "    \n",
        "  x = np.linspace(0, 6, 10)\n",
        "  plt.figure(figsize=(10,6))\n",
        "  plt.plot(x, f(x), linewidth=3, label=\"$f(x) = x^2 - 5$\")\n",
        "  plt.plot(x, np.zeros_like(x), 'k--', linewidth=3)\n",
        "  plt.plot(x, tangent(x, xold), 'b--', linewidth=3, label=\"tangente in {:.3f}\".format(xold))\n",
        "  plt.grid()\n",
        "  if abs(xold -xnew) < 0.5:\n",
        "    plt.xticks(sorted([xnew]), fontsize=18)\n",
        "  else:\n",
        "    plt.xticks(sorted([xold, xnew]), fontsize=18)\n",
        "  plt.yticks([-6, 0, 25], fontsize=18)\n",
        "  plt.ylim(-6, 25)\n",
        "  plt.xlabel('$x$', fontsize=18)\n",
        "  plt.legend(fontsize=18)\n",
        "  ax = plt.gca()\n",
        "  ax.xaxis.set_major_formatter(FormatStrFormatter('%.3f'))\n",
        "  # plt.title(\"la soluzione è {:.3f}\".format(np.sqrt(5)),fontsize=18);"
      ],
      "metadata": {
        "id": "JUvwM2QZEuvC"
      },
      "execution_count": null,
      "outputs": []
    },
    {
      "cell_type": "code",
      "source": [
        "interact(fun, iter_num=IntSlider(min=1, max=10, step=1, continuous_update=True));"
      ],
      "metadata": {
        "colab": {
          "base_uri": "https://localhost:8080/",
          "height": 443,
          "referenced_widgets": [
            "fcb29e7112e645e3970f3ca5060ef421",
            "46035900a8434758b62e120d67484bbe",
            "c595640ae6fe4673a9b8452b117c59eb",
            "a9015f1c859044f8b36ea8d7d73fce9d",
            "9115406d8134439abd70fa44bdb55470",
            "56cc298d5e74418a9281b0d428481223",
            "52231edf5bc049a98a8df938280d110a"
          ]
        },
        "id": "S60unoyVE2-C",
        "outputId": "f94d9fcd-a58a-4175-b522-33c38d663686"
      },
      "execution_count": null,
      "outputs": [
        {
          "output_type": "display_data",
          "data": {
            "application/vnd.jupyter.widget-view+json": {
              "model_id": "fcb29e7112e645e3970f3ca5060ef421",
              "version_minor": 0,
              "version_major": 2
            },
            "text/plain": [
              "interactive(children=(IntSlider(value=1, description='iter_num', max=10, min=1), Output()), _dom_classes=('wid…"
            ]
          },
          "metadata": {}
        }
      ]
    },
    {
      "cell_type": "code",
      "source": [
        ""
      ],
      "metadata": {
        "id": "SP0haxrVgcsu"
      },
      "execution_count": null,
      "outputs": []
    }
  ]
}