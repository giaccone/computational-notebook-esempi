{
  "nbformat": 4,
  "nbformat_minor": 0,
  "metadata": {
    "colab": {
      "name": "notebook_example4.ipynb",
      "provenance": [],
      "collapsed_sections": []
    },
    "kernelspec": {
      "name": "python3",
      "display_name": "Python 3"
    },
    "language_info": {
      "name": "python"
    },
    "widgets": {
      "application/vnd.jupyter.widget-state+json": {
        "8e3549be42364acc9d1224051dd42b2b": {
          "model_module": "@jupyter-widgets/controls",
          "model_name": "VBoxModel",
          "model_module_version": "1.5.0",
          "state": {
            "_view_name": "VBoxView",
            "_dom_classes": [
              "widget-interact"
            ],
            "_model_name": "VBoxModel",
            "_view_module": "@jupyter-widgets/controls",
            "_model_module_version": "1.5.0",
            "_view_count": null,
            "_view_module_version": "1.5.0",
            "box_style": "",
            "layout": "IPY_MODEL_4191095b3a2b4650b950127c751cd614",
            "_model_module": "@jupyter-widgets/controls",
            "children": [
              "IPY_MODEL_e84e81fa702e4cdeb86682d7aa61d2f6",
              "IPY_MODEL_2d58507ca3e74f198776c992670812b5"
            ]
          }
        },
        "4191095b3a2b4650b950127c751cd614": {
          "model_module": "@jupyter-widgets/base",
          "model_name": "LayoutModel",
          "model_module_version": "1.2.0",
          "state": {
            "_view_name": "LayoutView",
            "grid_template_rows": null,
            "right": null,
            "justify_content": null,
            "_view_module": "@jupyter-widgets/base",
            "overflow": null,
            "_model_module_version": "1.2.0",
            "_view_count": null,
            "flex_flow": null,
            "width": null,
            "min_width": null,
            "border": null,
            "align_items": null,
            "bottom": null,
            "_model_module": "@jupyter-widgets/base",
            "top": null,
            "grid_column": null,
            "overflow_y": null,
            "overflow_x": null,
            "grid_auto_flow": null,
            "grid_area": null,
            "grid_template_columns": null,
            "flex": null,
            "_model_name": "LayoutModel",
            "justify_items": null,
            "grid_row": null,
            "max_height": null,
            "align_content": null,
            "visibility": null,
            "align_self": null,
            "height": null,
            "min_height": null,
            "padding": null,
            "grid_auto_rows": null,
            "grid_gap": null,
            "max_width": null,
            "order": null,
            "_view_module_version": "1.2.0",
            "grid_template_areas": null,
            "object_position": null,
            "object_fit": null,
            "grid_auto_columns": null,
            "margin": null,
            "display": null,
            "left": null
          }
        },
        "e84e81fa702e4cdeb86682d7aa61d2f6": {
          "model_module": "@jupyter-widgets/controls",
          "model_name": "IntSliderModel",
          "model_module_version": "1.5.0",
          "state": {
            "_view_name": "IntSliderView",
            "style": "IPY_MODEL_f11062307a4e4b1596b00c77faf8fb17",
            "_dom_classes": [],
            "description": "iter_num",
            "step": 1,
            "_model_name": "IntSliderModel",
            "orientation": "horizontal",
            "max": 10,
            "_view_module": "@jupyter-widgets/controls",
            "_model_module_version": "1.5.0",
            "value": 3,
            "_view_count": null,
            "disabled": false,
            "_view_module_version": "1.5.0",
            "min": 1,
            "continuous_update": true,
            "readout_format": "d",
            "description_tooltip": null,
            "readout": true,
            "_model_module": "@jupyter-widgets/controls",
            "layout": "IPY_MODEL_88470f1bad3342b78814b539470dc023"
          }
        },
        "2d58507ca3e74f198776c992670812b5": {
          "model_module": "@jupyter-widgets/output",
          "model_name": "OutputModel",
          "model_module_version": "1.0.0",
          "state": {
            "_view_name": "OutputView",
            "msg_id": "",
            "_dom_classes": [],
            "_model_name": "OutputModel",
            "outputs": [
              {
                "output_type": "display_data",
                "data": {
                  "image/png": "iVBORw0KGgoAAAANSUhEUgAAAl0AAAGKCAYAAAA2UfQhAAAABHNCSVQICAgIfAhkiAAAAAlwSFlzAAALEgAACxIB0t1+/AAAADh0RVh0U29mdHdhcmUAbWF0cGxvdGxpYiB2ZXJzaW9uMy4yLjIsIGh0dHA6Ly9tYXRwbG90bGliLm9yZy+WH4yJAAAgAElEQVR4nOzdd1xWZR/H8c9hD3Ejrtx75tbM1B5LGzbMTMuZZlZaNi3zSc2mtiwrs5y4SjNMW1ppj5oLR+690RBwALK5z/PH0RsRVGTd3Dff9+vFS8911g8K+Hpd17mOYZomIiIiIpK33BxdgIiIiEhhoNAlIiIikg8UukRERETygUKXiIiISD5Q6BIRERHJBwpdIiIiIvlAoUtEREQkH9xw6DIMo5ZhGG8ahrHOMIwIwzBiDMPYahjG64Zh+F9x7BjDMMyrfLyUe5+GiIiISMHmkY1zHgeeAX4E5gDJQEfgLaCHYRitTdOMv+Kc54HIK9o2ZePeIiIiIk4pO6FrIfCuaZrnL2ubbBjGfuB1YCAw6YpzQkzTPJK9EkVERESc3w0PL5qmGXpF4Lrk24t/NsjsPMMwihqGkZ2QJyIiIuL0cnMifcWLf4Znsm8bcB5IMAzjb8Mw7srF+4qIiIgUeEZuvPDaMAx3YBXQAmhgmubei+3DgbrA38BZoDYwHCgHPG6a5owc31xERETECeRW6PoMGAqMNE3z3escWwrYAfgAN5mmGXuV4wYDgwF8fX2b3XTTTTmuU0RunM1mw82tcK4uU5g/d5HMmMDJWBvJNmvbyx3K+bthOLSqgmffvn2RpmkGXtme49BlGMY4YBQwxTTNJ7N4zmhgDNDZNM1l1zu+efPmZmhoaI7qFJHsWblyJR06dHB0GQ5RmD93kcz8N2QHweuOAuDn5c5Pz7ajamn/65xV+BiGsck0zeZXtufon3CGYYzBClzTgSE3cOqRi3+Wzsn9RUREJH/8sTvcHrgARnetp8B1g7Idui4GrtHATGCQeWNdZjUv/pnZpHsREREpQCJiEnll4Tb7duf6QfRormk/NypbocswjDewAlcw1oR4WybHeBiGUSyT9puAp4AorAn2IiIiUkCZpskrC/8h6kISAEFFvXmvWyMMQzO5btQNr5tlGMYzwFjgGPA78OgVX/hw0zSXA0WAw4ZhhAC7SXt6cdDFfb0yWbleRERECpDgdUdZsTfCvv3Bw40p4e/lwIqcV3YWK21x8c9KWEOLV/oLWA7EA98DrYAHsIJWJFZQG2+a5oZs3FtERETyyf7wGN7+abd9e9CtVWlXM8NDeZJFNxy6TNPsD/TPwnGJWL1aIiIi4mQSU1J5dv5WElOsGUR1ygbwcpfaDq7KuWkBGhEREcngg9/2svtUNADeHm582qsJ3h7uDq7KubnUuxCjo6M5ffo0ycnJji5FxGUUK1aM3bt3X3W/p6cnZcqUoWjRovlYlYjkpdX7I/l61WH79mt31aFWUIADK3INLhO6oqOjCQ8Pp0KFCvj6+uqpCpFcEhMTQ0BA5j9sTdMkPj6esLAwAAUvERdw9kISLy7Yat9uXyuQfrdUcVxBLsRlhhdPnz5NhQoV8PPzU+ASySeGYeDn50eFChU4ffq0o8sRkRwyTZPXFm0nPDoRgJL+Xkx4WMtD5BaXCV3Jycn4+vo6ugyRQsnX11fD+iIuYEHoCX7d+a99e/xDjSgT4OPAilyLy4QuQElcxEH0vSfi/A5HXmDMkp327cdaVaJTvSAHVuR6XCp0iYiIyI1LTrUx/NutxCWlAlAt0J9R99RzcFWuR6FLRESkkHv/lz38c/wcAJ7uBp/2bIKvl5aHyG0KXSIiIoVYyJYwvlmdtjzEC3fUpkGFDK9Ollyg0CUiIlJI7Qg7z4jvt9m3O9UN4snbqjmwItem0CVOJTExkSeeeIJq1aoREBBArVq1+OyzzxxdloiI04mKTeTJ4E321/xUD/Tn40ca4+amB2PyisssjiqFQ0pKCmXLlmXZsmVUq1aNbdu20blzZ4KCgujRo4ejyxMRcQrJqTaembuZsHPxAAR4ezClb3MCfDwdXJlrU0+Xk/vzzz+57bbbKFmyJIZh8MYbb7Bjxw48PDxYvnx5tq65ePFivLy82L9/fy5Xm3P+/v6MGzeOGjVq4Obmxs0338x9993H6tWrHV2aiIjTePun3aw7dAYAw4CJvW6memARB1fl+hS6nNjevXvp0qULiYmJvPfeewQHB9O/f39eeOEF2rZtyx133JGt695///00bNiQESNG5HLFuS85OZlVq1bRqFGjfLunYRiZfhQpoh9YIlLwLQg9zoy/j9i3X7yjFrfX0Xpc+UHDi05s6tSpJCcns2DBAipVqgTA2rVrWb58OSEhITm69nPPPUe/fv3YuXMn9evXz41y88TQoUMJCAigb9+++Xrfdu3aMXjw4HRtnp7qlheRgu2f4+d4PWSHfbtL/bI807GGAysqXBS6nNjq1aupWbOmPXABfPHFF5QuXZq77747R9fu1q0bTz31FJMnTy6wE9VfeOEF1q5dy59//omXl1e+3rtatWr07t07X+8pIpITETHWxPmkixPnawUV4YMejQvNGyWioqBUKcfWoOFFJzR69GgMw2Dt2rXs37/fPry1YMECQkJC6NSpU4Zel/j4eCpWrEilSpVITExMt2/QoEG4u7szf/58e1uRIkVo164dCxcuzJfP6UbrGz58OMuXL+ePP/6gdOnS+VLjlZKSkoiNjXXIvUVEbkRSio2n52zi3+gEAIr6eDClT3OKeLt+30tSEgwfDvXrw8mTjq1FocsJ3XXXXYwfPx6AXr16ERwcTHBwMJUqVSI2NpaWLVtmOMfX15exY8dy/PhxvvjiC3v7a6+9xtSpU/nss8/o2bNnunPatGnDv//+y549ezKtw2azERkZmeUPm8121c/pRup79tln+f333/nzzz8JDAzM+hcuFy1cuBA/Pz8CAgIoU6YMw4YN4/z58w6pRUTket5cupONR84C1sT5T3s1oUppfwdXlffCwqBjR5g4EcLDoUcPSE52YEGmaRb4j2bNmpnXs2vXruse40q+//57EzCXLl1qb5s2bZoJmIsXL870nJSUFLN+/fpmYGCgGRMTY3788ccmYI4dOzbT44ODg03AXLhwYab7Dx8+bAJZ/jh8+PA1P6es1HfkyBETML29vU1/f3/7R5cuXa7zFcs9LVu2NCdMmGD+8MMP5syZM81HHnnEBMyGDRuaMTEx+VZHfomOjs7Sca74PbhixQpHlyCSY/PWHzUrj1hq//hixQFHl5Qv/vjDNAMDTRPSPu6/3zSz+CMtR4BQM5M84/L9ilVe/cnRJVzVkffuyfa5mzdvBqBp06b2toiICABKliyZ6Tnu7u689957dO3alfvvv58VK1YwbNgw3njjjUyPL3Vx8Pv06dOZ7i9btuwNLUtRtmzZa+7PSn2VK1fG+v85686dO8cnn3yS5eOfffbZq34NAdavX59uu2/fvjRq1IjXX3+diRMn8vrrr99QfSIieWXT0bO8sXinffueRuUY0t61V5y32eD992HUKOvvAG5u8O678PLLVk+fo7h86HJVmzdvJigoiHLlytnbLk2GvFYouffee2nSpAl//vknPXv2ZOLEiVc99tJ1rjbJ0sfHh06dOmWn/FypL6vOnTvH2LFjs3x87969rxm6MvPyyy8zduxYfvrpJ4UuESkQwqMTeGr2JpJSreRRp2wAE7o3cumJ82fPQr9+sGRJWltQEMyfDx06OKwsO4UuJ7Vly5Z0vVyAfX7TmTNnrnret99+yz///ANAQEDANb/5Ll3navOmUlNT7b1rWREYGIi7+7XfWn8j9WVVlSpVbrh37EZ5enpSvnx5IiMj8/Q+IiJZkZiSylOzN3E6xnowqbifJ1/3bY6fl+v+2t+6FR56CA4dSmu79Vb49lsoX95xdV3Odb/6F+VkCK+gOnnyJP/++y9NmjRJ196gQQOAq64kv2zZMvr27cuDDz6Ip6cn06ZN4/nnn6du3bqZHn/gwIF0173S8ePHqVq1apbrPnz4MFWqVLnq/hutryBJSEjgxIkTtG7d2tGliEghZ5omoxfvZPOxcwC4GTCpV1NuKunn4Mry1p9/pg9cL75oDSkWpCUUXT50uaLM5nMBNGnShKJFi7Ju3boM56xfv55u3brRtm1b5syZw4kTJ/j+++957bXXrrqQ6rp16wgKCqJ27dqZ7s/NOV3Zqc8RoqKi7HPdLvff//6XlJQUunbt6oCqRETSzFl/jPkbj9u3R95dl1trOmZpnfz0/POwZg0sXw7TpkH37o6uKCOFLid0KXRd2dPl7u5Ot27dCAkJITExEW9vbwB27drF3XffTa1atQgJCcHb25vq1aszcOBAJk+ezJo1a2jbtm26a8XGxrJq1Soef/zxq9aRW3O6slOfo7z11lusW7eOjh072pfo+Pnnn1mxYgWtWrVi2LBhji5RRAqxjUfOMObHtInzD9xcnoG3Zn1EwpkZhhW2wsOhVi1HV5M5rdPlhLZs2ULx4sWpVi3jEyhPPfUU586dY+nSpQAcO3aMzp07U6JECX755ReKFi1qP/a///0vvr6+vPLKKxmu8/333xMXF8eTTz6Zd59IDupzlA4dOlC0aFFmzpzJ8OHDGT16NGfOnOHtt99m5cqV+Pr6OrpEESmkTp2P56nZm0mxWXNY65cvyrvdXHPi/JIlcNdd1sKnlytWrOAGLgAjrycY54bmzZuboaGh1zxm9+7dTjH3Jz906dKFCxcusGrVqmxfo2nTplSpUoVFixblYmXijGJiYggICLjuca74Pbhy5Uo6FIRHnkSuIyE5lUe+Wss/J6xFmkv6e/Hj0LZULOFa87hSUuCNN6y5WgBDh0JBfFOdYRibTNNsfmW7erpc0IcffsjatWtZtmxZts4PCQlhx44dvP/++7lcmYiI5DbTNBkVssMeuNzdDD5/tKnLBa7Tp6Fz57TABfDjj9YyEc5Cc7pcUP369UlJScn2+Q888ABJV/bZiohIgTRr7VEWbjph3x51T13aVHfwm51z2Zo11it8Ln93YufOMGcOlCjhuLpulHq6REREnNTag1G8uXSXffuhphXpf0sVxxWUy0wTPvnEWtj0UuAyDBgzBn76CTJ5mLxAU0+XiIiIEwo7F88zczeTenHifOOKxXj7wQYuM3E+JgYGDoQFC9LaSpaEuXOtXi5npNAlIiLiZBKSU3kyOJQzF6ypIKWLeDG5TzN8PK/91g9ncewY3Hkn7N2b1taihRXAKld2XF05peFFERERJ2KaJq8t2s6OsGgAPNwMvnisGeWKuc6SNUFBcNkKQjz9NKxa5dyBCxS6REREnMrU1Yf5YUuYfXv0ffVpWbWkAyvKfd7eVq/WTTfB7Nnw+edWm7PT8KKIiIiTWHMgknd+3m3f7tniJnq3quTAinLH6dMQGGhNkr+kcmXYv981wtYl6ukSERFxAsfPxDF07mYuzpunSaXijL2/vtNPnF+2DOrVg4kTM+5zpcAFCl0iIiIFXlxSCoODN3E2LhmAwABvJvduhreH806ct9ngzTehSxeIioKXX7bW43JlGl4UEREpwEzT5JWF29h9ypo47+luMLl3M4KK+ji4suyLioI+feCXX9LarhxedEUKXSIiIgXYlP8dYum2U/btN+9vQLPKTrQM+xU2boTu3a1lIS7p0AHmzYOyZR1WVr7Q8KKIiEgB9de+CN7/dY99+7FWlejV0jknzpsmfPUV3Hpr+sA1YgQsX+76gQsUukTSMQyD/v37O7oMERGORF5g2GUT55tXLsHorvUdW1Q2xcVBv34wZAhcerVvsWIQEgLvvQcehWTcTaHLyWzdupUxY8Zw5MgRR5fiEGPGjCEkJMTRZdywDz/8kA4dOlCuXDm8vb0pV64cHTt25IcffsjyNU6dOsXrr79Oly5dCAwMzFJAnDVrFk2aNMHX15egoCAGDRpEREREhuOWL1/OkCFDaNGiBT4+PhiGwcqVK2/wsxSR3HIhMYXBwaFEJ6QAULaoD1/0boqXh3P+2u7RA4KD07YbN4ZNm+D++x1XkyM453+9Qmzr1q2MHTu20IausWPH5mnoio+P5+uvv871627YsIEqVarw/PPP8+WXX/Liiy8SFxdHt27dGDduXJausXfvXt555x127dpFixYtrnv8xx9/TL9+/ShWrBgTJ07kySefZP78+XTo0IELFy6kO3bOnDlMmzaN1NRU6tatm63PUURyh2mavLTgH/aFxwLg5eHG5D7NKBPgvBPn33gDPD2tvw8YAGvXQvXqjq3JEQpJh55I1vj45M0PtW+//TZD2/Dhw2nWrBnjx49n5MiRuLtf+9HvZs2acfr0aQIDA4mMjCQwMPCqx0ZGRjJq1ChatGjBH3/8Yb92ixYtuO+++5g4cSIjR460H//222/z1Vdf4e3tzQcffMDWrVuz+ZmKSE59sfIgv+z417791gMNuPmm4g6sKOdatrRWlXdzs15iXVipp8uJjBkzhgEDBgDQsWNHDMNIN8QUExPDqFGjaNWqFaVLl8bb25saNWrw6quvEhcXl+5aK1euxDAMZsyYwfTp06lfvz7e3t5UrlyZ8ePHZ3r/L7/8ktq1a+Pt7U3NmjWZNGkSM2bMyHQo6vz584wYMYIaNWrg7e1NYGAgvXr14tChQ+mOu3T+n3/+yQcffED16tXx9vamVq1azJw5037ckSNH7AsAzpw50/65X7ko4O+//86dd95J8eLF8fHxoVGjRkyePDnLX+PMhuwuta1du5b27dvj7+9PqVKlGDRoELGxsVm+9pU8PDyoUKECFy5cIDk5+brHBwQEXDNoXS4kJIS4uDiGDRuWLsx17dqVatWqMXv27HTHV6hQAW9XW4VQxAn9uSecD5alveW5/y1V6NH8JgdWdONOnYL//S9j+xNPFO7ABerpcirdunXj1KlTTJkyhZEjR9qHgapf7KMNCwvjm2++4aGHHuLRRx/Fw8ODv/76i/Hjx7NlyxZ+++23DNecPHky4eHhDBw4kOLFizN79mxGjBhBxYoVefTRR+3Hvf/++7z66qs0bdqUd999l7i4OCZMmJBpCDh//jy33HILx44d4/HHH6d+/fqcOnWKL774glatWhEaGkrlK95aOnLkSOLj43nyySfx9vbmyy+/pH///tSoUYO2bdsSGBhIcHAwffr0oV27dgwePDjDfadMmcKQIUNo3bo1r7/+Ov7+/ixfvpynnnqKgwcPMmHChGx/7bdu3cq9997LgAEDePTRR1m5ciVTp07Fzc2NKVOmZPk6Z86cITU1lcjISBYsWMCvv/5Kx44dc72HbePGjQC0adMmw77WrVszb948YmNjKVKkSK7eV0Sy71BELM/N34p5ceJ8q6olef0e5xru/+sveOQRSEiw5mwVxiHEazJNs8B/NGvWzLyeXbt2XXXf6NGmaT2sev2PJ57IeP4TT2T9/NGjM55/773XPyarpk+fbgLmihUrMuxLTEw0k5KSMrSPGjXKBMz169fb21asWGECZrly5cxz587Z2y9cuGCWLl3abN26tb0tKirK9PHxMRs2bGjGx8fb20+dOmUWLVo0Qz3PPvus6ePjY27dujVdHUeOHDEDAgLMfv36Zfh8br75ZjMxMdHefuLECdPLy8vs2bNnumsA6c6/5OTJk6a3t7fZq1evDPueffZZ083NzTx48GCGfVfK7PqAaRiGuW7dunTtd999t+nh4WHGxMRc97qXlCpVygRMwPTw8DC7d+9unj59OsvnXxIREXHVr4Vpmua9995rAmZcXFyGfS+//LIJmHv37s303AkTJqT7bxodHZ2lmq71PeisMvs+E8kL0fFJ5n8+XGlWHrHUrDxiqdnmnd/NiJgER5eVZTabaY4fb5ru7mm/65o2Nc3UVEdX5hhAqJlJntHwogvx8vLC8+JMxZSUFM6ePUtkZCSdOnUCYP369RnOGTBgAMWKFbNv+/n50bp1a/bv329vW758OQkJCTz11FPpemTKli3LY489lu56pmkyZ84cbrvtNipUqEBkZKT9w9/fn9atW7Ns2bIMdTz99NN4eXnZtytUqECtWrXS1XEtCxcuJDExkYEDB6a7Z2RkJF27dsVms/H7779n6VqZadOmDa1atUrXdvvtt5OSknJDDzUsWrSI3377jWnTpnHHHXcQHx9PTExMtuu6mkvDyZkNGV76b3jlkLOIOIbNZvLCd/9w4LQ1XcHbw42v+jSndBHnGPI/fx4eegheeQVSU622wEAYP96awyVpNLzoYr744gsmT57Mzp07sdls6fadPXs2w/HVqlXL0FaqVCmioqLs24cPHwagdu3aGY69si0iIoKoqCiWLVt21flHbpl8F16tjqNHj2Z6jSvt3r0bwB4wMxMeHp6la2XmavUB6b5W13PbbbfZ/z5gwAB69epF27Zt2bVrFyVK5N4K035+fgAkJibi6+ubbl9CQkK6Y0TEsT79cz/Ld6X9fHrvoYY0rFjsGmcUHNu2WYHrwIG0tjZt4LvvoGJFx9VVUBWK0DVmjPWRXVOmWB/ZtWRJ9s+9ER999BEvvvgid955J88++yzly5fHy8uLsLAw+vfvnyGEAdd9Yu5GmRcnI3Tq1IkRI0Zk+byr1XHpelm976xZsyhXrlymx2QWnLLqWl+nrNaYmX79+jF//nwWLVrEwFycYVq+fHnAmudXo0aNdPvCwsIwDMN+jIg4zvJd4Xzye1qP/sBbq/JgE+dIKzNnwlNPQXx8Wttzz1k9XJcNXMhlCkXociVXPq13ueDgYKpUqcIvv/ySrjfp119/zdE9q1SpAljrRN1+++3p9u3duzfddmBgIMWLFyc6OvqavU65rWbNmgCULl06X++bU/EXf1qdOXMmV6/bokULpkyZwtq1azOErnXr1lG7dm1NohdxsAOnY3j+27TlWW6pXorX7qrjwIqyJiHBCleXd0b4+8O0adYiqHJ1Gm11Mpd+UWb2S9rd3R3DMNL1vKSkpPDee+/l6J533HGH/YnCS0NTAP/++y9z5sxJd6ybmxuPPfYYGzZsYOHChZle7/Tp09mupUiRIpl+7j169MDb25vRo0fbg8zlzp8/T2JiYrbvmxMXLlzIdGmJ1NRUPv/8c8B6ovCS5ORk9uzZw7HLX052g+6//358fX2ZNGkSqZcmWQBLlizh0KFDGebiiUj+ik5IZvCsTcQmWivOVyzhy6RHm+LhXvB/La9cmT5w1a1rvcRagev61NPlZFq0aIGbmxtvv/02Z8+exd/fn6pVq9KqVSu6d+/Oa6+9xl133UW3bt2Ijo5m7ty59sn12VWqVClGjx7NyJEjadu2Lb179yYuLo4pU6ZQq1YtQkND0/XAvf3226xZs4YePXrQo0cPWrdujZeXF0ePHuXnn3+mWbNmzJgxI1u1tG7dmt9//53333+fSpUqYRgGPXv2pGLFinz55ZcMGjSIunXr0qdPHypXrkxERATbt28nJCSEXbt22Xvt8tP+/ftp37493bt3p3bt2pQsWZKwsDDmzZvH3r176devH+3atbMfHxYWRt26dWnfvn2G9c/eeustIG0S/LZt2+xtt912m33OWGBgIOPGjeOll16iU6dO9OrVi7CwMD788EPq1KnD8OHD011327Zt/PjjjwCsWbMGsHpOV69eTWJiIi+99FK6By5EJPtsNpPh87dyKNJ6M4SPpxtT+jSnpL9zjMl16QIvvAAffQS9elkBTB3nWZTZI40F7SOnS0a4mhkzZph169Y1PT090y0bkJKSYr7zzjtm9erVTS8vL7NSpUrmyy+/bO7atcsEzNGXrVVxacmI6dOnZ7h+v379TOt/jfQmTZpk1qxZ0/Ty8jJr1KhhfvbZZ+ann36aYTkK07SWnnjzzTfNBg0amD4+PmaRIkXMOnXqmIMGDUq39MK1lsBo3769Wbly5XRt+/btM++44w4zICDAvvTC5VavXm0+8MADZmBgoOnp6WmWK1fO7NChg/nBBx+kW+7iarjKkhGZLc1wrdovFxERYT7zzDNmo0aNzBIlSpgeHh5mqVKlzE6dOpmzZ882bTZbuuMPHz5sAmb79u0zre9qH6MzWYtk+vTpZqNGjUxvb28zMDDQHDBggBkeHn7Vz+VqH4cPH77m52iarvk9qCUjJC988Nse+9IQlUcsNRdvDXN0STcsKck058+3loqQjLjKkhGGmYNJwPmlefPmZmho6DWP2b17t94Z5wDDhg1j0qRJnDp1irJlyzq6HMkDMTExBAQEXPc4V/weXLlyJR06dHB0GeJCft1xiiGzN9u3n2xfjdfuKrjfNxERMGIEfPgh5OID1i7PMIxNpmk2v7Jdw4uSJQkJCRlWTT916hSzZs2iQYMGClwiItex998YXvjuH/t2u5qleaVzwZ04v24dPPwwnDhhha/Fi7XuVk4pdEmWrFy5kpdffplu3bpRsWJFjhw5wtdff01sbGyOJ+qLiLi683HJDA4OJS7JerClUkk/PuvVBHe3qz+R7iimab2c+oUX4NJrYZcuhVWroH17x9bm7BS6JEtq1KhB9erV+frrr4mKisLHx4fmzZvz2muvOdUSDSIi+S3VZjJs/haORlkPwPh5uTOlbzOK+xW8ifOxsTB4MMybl9ZWogQEBytw5QaFLsmSGjVqEBIS4ugyRESczoTf9vK/fRH27Q8fbkydskUdWFHm9uyxVpfftSutrVkzWLgQHPDgt0vS6KyIiEgeWbrtJJP/OmjffqZjde5qmPlbMxzpu++gRYv0gWvwYFi9WoErNyl0iYiI5IFdJ6N5ecE2+3bH2oG8cEfGd9g6UkoKDB8OjzxiDS0C+PjA9Onw1VfW3yX3uNTwomma13xNjojkDWdYekYkP529kMTg4FDik62J81VL+/NJz4I3cd7dHY4eTduuXh2+/x4aN3ZcTa7MZXq6PD09M339i4jkvfj4+By/+UDEVaSk2hg2bwsnzlq/k4p4e/B132YU8y143yOGYfVqVa8O998PoaEKXHnJZXq6ypQpQ1hYGBUqVMDX11c9XiL5wDRN4uPjCQsLIygoyNHliBQI7/+6h9UHIu3bH/VoTI0y119gOE4s5MgAACAASURBVD/YbNaHx2W//YsXt+ZuBQVZIUzyjsuErqJFrSdBTp48SfKlhUVEJMcyWxj3cp6engQFBdm/B0UKs8Vbw/h61WH79nP/qcmd9QvG4tFnz0Lfvlav1iefpN+n9a3zh8uELrCCl37wi+SulStX0qRJE0eXIVLg7Qg7zysL0ybOd6obxHP/qenAitJs3gzdu8Phi3mwTRtr8rzkL5eZ0yUiIuIoUbGJPBm8icQUGwDVA/35+JHGuBWAifNTp8Itt6QFLoCdOx1XT2HmUj1dIiIi+S051cYzczcTds6aOB/g7cGUvs0J8HHsxPn4eBg6FKZNS2sLCIAZM6BbN4eVVagpdImIiOTA2z/tZt2hM4A1EX1ir5upHljEoTUdPGgNJ27dmtbWoIG1HEStWo6rq7DT8KKIiEg2Ldx0ghl/H7Fvv3hHLW6v49gneX/80Xp9z+WBq08fWLdOgcvRFLpERESy4Z/j5xj5w3b7dpf6ZXmmYw0HVgSTJ1vrbZ0/b217eVltM2eCv79DSxM0vCgiInLDImKsifNJFyfO1woqwgc9Gjt8jcjOnaFECWt5iMqVrZdVN2/u0JLkMurpEhERuQFJKTaenrOJf6MTACjq48GUPs0p4u34foyqVSE4GO6+GzZtUuAqaBS6REREbsC4pbvYeOQsYE2c/7RXE6qUzv+xO9NMP2/rknvugaVLoVSpfC9JrkOhS0REJIvmbzhG8Lq0N0S/0rkOHWqXyfc6oqOhRw9o0QLWrs24X6/zKZgUukRERLJg87GzvLE4bVXRexqVY0j7avlex44dVthauBBSUuDhhyEiIt/LkGxQ6BIREbmO09EJDAneRFKqNXG+TtkAJnRvlO8T5+fMgVatYN++tLYHHgC9Ac85OH7Wn4iISAEWm5jCoFmhnI5JBKC4nydf922On1f+/QpNTIQXX4TPP09r8/ODr7+GRx/NtzIkhxS6REREriIhOZXBs0LZdsJa+MrNgEm9mnJTSb98q+HYMWsIccOGtLbata3V5evXz7cyJBdoeFFERCQTKak2np23hb8PRtnbxj3QgFtrls63GpYtg6ZN0weu7t1h40YFLmek0CUiInIF0zR5bdF2lu0Kt7e93Lk2j7WqnG81nDoF990HURczn4cHfPwxfPed9eJqcT4KXSIiIpcxTZN3ft7Ngk0n7G1PtKvK0x2q52sd5crBhAlpf1+xAoYP13IQzkxzukRERC7zxcqDfL3qsH374WYVGXl3XYe84mfoULhwAQYMgCDHvkdbcoF6ukRERC6ave4oE37ba9/uXD+Id7s1zPPAZZrWk4iHDqVvNwx49VUFLleh0CUiIgIs+eck/128w759S/VSTOzZBA/3vP1VeeEC9O0LgwdbTykmJOTp7cSBFLpERKTQW7n3NM9/uxXTtLYbVyzGlL7N8fF0z9P77tsHrVvD7NnW9ubNafO4xPUodImISKG26egZhszeRIrNSlw1yhRh+oCWFPHO22nPixZB8+bWa30uefxxeOmlPL2tOJBCl4iIFFq7T0UzYPpGEpKt1/tUKO5L8MCWlPT3yrN7JidbweqhhyAmxmrz9oZvvoGpU8HXN89uLQ6mpxdFRKRQOhp1gT5TNxCdkAJAKX8vgge2pFyxvEs9p07BI4/AqlVpbVWrWqvLN2mSZ7eVAkI9XSIiUuiERyfQe+p6ImOt9ykGeHsw8/GWVAsskmf3/OsvK1hdHri6doVNmxS4CguFLhERKVTOxSXRd+oGjp+JB8Dbw42p/VvQoEKxPL1vSAiEX1zg3s0N3nnHaitRIk9vKwWIhhdFRKTQiEtKYcCMjewNtyZTebgZfNm7KS2rlszze7//vvUOxf37Yd48+M9/8vyWUsAodImISKGQmJLKk8Gb2HLsnL3tg4cbc3ud/Fl51MsLFiwAmw0qVsyXW0oBo+FFERFxeak2kxe+/YdV+yPtbWPvq88DTSrkyf1mzICePa2Adbny5RW4CjP1dImIiEszTZNRIdv5afspe9vznWrR75YquX6vhAR49lnrlT5gTZAfMSLXbyNOSj1dIiLi0sb/tpd5G47bt/vfUoVn/1Mj1+9z+DC0bZsWuADmzIGkpFy/lTgphS4REXFZX/11kC9XHrRvP9ikAm/cWy/XX2D900/QrJn1Gp9LevWCv/+25nKJgEKXiIi4qG83HuPdX/bYtzvVLcP47o1wc8u9wJWaCv/9L9x7L5w9a7V5esKkSVYvV5G8W/ZLnJDmdImIiMv5ZfspXlu03b7dsmpJJj3aFE/33OtriIiARx+F339Pa6tYERYuhFatcu024kIUukRExKWs3h/Jc/O3cvH91dQvX5Rv+jXHx9M91+6xfTvcfTecOJHWdscdVu9WYGCu3UZcjIYXRUTEZWw5dpbBwaEkpVprNVQr7c/Mx1tS1MczV+9TsaI1jHjJG2/AL78ocMm1KXSJiIhL2Bcew4AZG4lLSgWgXDEfgge1onQR71y/V4kS1kuqy5e3JtGPHQvuudeRJi5Kw4siIuL0jp+Jo8/U9ZyLSwaghJ8nwQNbUqG4b65cPyIiYy9WkyZw8CD4+OTKLaQQUE+XiIg4tdMxCfSZup7w6EQA/L3cmfl4S2qUCciV63/7LVSrZk2Qv5ICl9wIhS4REXFa5+OT6TdtI0ei4gDw8nDj637NaVSxeI6vnZQEzz1nvc4nNhYefxz27s3xZaUQ0/CiiIg4pfikVAbO2MjuU9EAuBnwWa8m3FK9dI6vfeIE9OgBa9emtQUFQXJyji8thZh6ukRExOkkpdh4as4mQo+etbe9/1AjOtcvm+Nr//EHNG2aPnA98ACEhkKDBjm+vBRiCl0iIuJUbDaTlxb8w8q9Efa2UffU5eHmN+XwuvD223DnndbEebCeSJwwARYtgmLFcnR5EQ0vioiI8zBNk9E/7uTHf07a24bdXoNB7arl6Lpnz0KfPtbyD5eULWtNor/tthxdWsROoUtERJzGx8v3EbzuqH27T+vKvHBHrRxd02aDTp3Sv6y6XTsrcJUrl6NLi6Sj4UUREXEKU1cf5tM/D9i3uzYuz9j76mMYOXuBtZsbjB6dtv3SS9a8LgUuyW3q6RIRkQJv4aYTjFu6y77doXYgHz7cGDe3nAWuS+67D8aNg3r1oFu3XLmkSAYKXSIiUqAt2/kvI77fZt9uXrkEXz7WDC+P7A3WHDgA0dHWE4qXGzUqJ1WKXJ+GF0VEpMBaezCKofO2kGozAahTNoCp/Vvg65W9Fx0uXgzNm1tLQERG5malIten0CUiIgXSthPneGJWKEkpNgAql/Jj1sCWFPP1vOFrpaTAq69aYev8eTh+3FphXiQ/aXhRREQKnAOnY+k/fSOxiSkABBX1ZvbAVpQJuPGXHYaHW6/yWbkyra1yZXjjjVwqViSL1NMlIiIFSti5ePpMXc+ZC0kAFPP1ZNbjrbippN8NX2v1amjSJH3g6tIFNm2yhhlF8pNCl4iIFBiRsYn0+WY9p84nAODn5c70AS2oXTbghq5jmvDxx9ChA5w6ZbUZBrz5prUAaqlSuVy4SBZoeFFERAqEmIRk+k/fwKHICwB4uht81acZTSuVuKHrREfDwIGwcGFaW6lSMHeu9YofEUdR6BIREYdLSE5l0MxQdoRFA+BmwMSeTWhXM/CGr7VwYfrA1aoVfPcdVKqUW9WKZI+GF0VExKGSU20MnbuZ9YfP2NveebAhdzfM3pLwAwZAjx7W34cOhf/9T4FLCgb1dImIiMPYbCYjFm7j992n7W2v3lWHni2zn5IMA775xnpi8cEHc6NKkdyhni4REXEI0zR5c+kuFm0Js7cNaV+dIe2rZ/kaR4/C4MGQmJi+PSBAgUsKHvV0iYiIQ3z6xwFm/H3Evt2r5U2M6FI7y+f/9hs8+iicOQPu7vDll3lQpEguUk+XiIjku5l/H+Hj3/fZt+9uWJa3HmiIYVz/BdY2G4wdC3fdZQUusIYT9+7Nq2pFcod6ukREJF+FbAlj9I877dvtapbm40duxt3t+oErMhJ697Z6uS4pX956OrF21jvJRBxCoUtERPLNn3vCeXHBP/btJpWKM7l3M7w9rv8C640boXt3OHYsre3222HePChTJi+qFcldGl4UEZF8seHwGZ6avZlUmwlAraAiTO/fAn/va//73zSt+Vq33po+cI0cCcuWKXCJ81BPl4iI5LkdYecZOGMjiSk2ACqW8CV4YCuK+3ld87y4OHjySZg9O62tWDEIDoauXfOyYpHcp9AlIiJ56nDkBfpP30BMYgoApYt4M3tgK4KK+lz3XA8POHAgbbtJE2u1+WrV8qpakbyj4UUREckzp87H0/ub9UTGJgEQ4ONB8MCWVCntn6XzvbysSfKlS1vvU1yzRoFLnJd6ukREJE+cuZBEn6kbCDsXD4CPpxvT+7egbrmiVz0nJcVac+vylSNuugn++cd6SlHEmamnS0REcl1sYgoDpm/gwOlYADzcDCb3bkbzKiWves7Jk9CxI3z4YcZ9ClziCtTTJSIiuSohOZXBs0L558R5wOq1+uiRm+lQ++qPGa5cab0rMTwc1q6Fli3httvyqWCRfKKeLhERyTUpqTaem7+Fvw9G2dvevL8B9zXOvKvKNOH99+E//7EC16W27dvzo1qR/KWeLhERyRWmaTLyh+38tjPc3vbSnbXo07pypsefOwf9+8PixWltZcrA/PnWMKOIq1HoEhGRHDNNk3d+3s13oSfsbYNurcozHWtkevzWrdbq8gcPprXdcov1pGKFCnldrYhjaHhRRERy7IuVB/l61WH7dvdmFXn9nrqZvsB6xgxo0yZ94Hr+eWtelwKXuDL1dImISLaZpsnHv+/n0z/229vurBfEe90aZhq43ngDxo1L2y5SBKZNg4cfzo9qRRxLPV0iIpItqTaT10N2pAtcbaqV4tNeTfBwz/zXy/33WwueAtSrZ73EWoFLCgv1dImIyA1LTEll+Pyt/LLjX3vbbbUC+fKxpvh4ul/1vGbNYNIkayjxq6+sni6RwkI9XSIickNiEpLpP21jusB1/83l+aZvc/y90/4tn5oKO3ZkPH/QIOsF1gpcUtgodImISJZFxCTSc8o61h5KW4drQNsqfNzjZrw80n6lRERA587WE4n79qW/hmGkf82PSGGh0CUiIlly/EwcD0/+m50no+1tL3euzRv31sPNLS1FrV0LTZrAH39ATIy1NERcnCMqFilYFLpEROS6dp+KptuXf3MkykpPbga8160hz3SsYX9K0TTh00+t1/eEhVnnGQY8+CB4ezuqcpGCQxPpRUTkmtYfimLQrFBiElIA8PJw47NeTehcv6z9mJgYa67Wd9+lnVeypDV366678rtikYJJoUtERK5q2c5/GTpvC0kpNgACvD34ul9zWlcrZT9m1y546CHYsyftvObNYcECqFIlnwsWKcA0vCgiIpn6buNxhszeZA9cpYt4M//J1ukC1/z50LJl+sA1ZAisXq3AJXIl9XSJiEg6pmky+a9DvP9rWpKqXMqP4MdbUamUn71t+3bo1SvtPF9fa+2tPn3ys1oR56GeLhERsbPZTN76aXe6wFWvXFEWDrklXeACaNgQXnnF+nvNmrB+vQKXyLWop0tERABITrXxysJt/LAlzN7WulpJpvRtTlEfz0zPeftt8POzXlhdtGh+VSrinNTTJSIixCWl8MSs0HSBq0v9sswY0JKiPp7YbPDJJxAVlf48Dw8YPVqBSyQrFLpERAq5c3FJPPbNelbujbC39WpZic8vvkfxzBno2tXqzerdG2w2BxYr4sQUukRECrFT5+N5ePJathw7Z28bdnsN3nmwAe5uBps2WS+p/vlna9+vv8KMGY6pVcTZaU6XiEghdeB0LH2nrufk+QR725iu9ejftiqmCVOmwLBhkJSUds7LL0Pfvg4oVsQFKHSJiBRCW46d5fEZGzkblwyAp7vBBw835v6bKxAXB08/DTNnph1ftKjVw/Xgg46pV8QVKHSJiBQyf+2LYEjwJuKTUwHw83Jncu9m3FYrkAMHrNXlt21LO75RI1i40FoWQkSyT3O6REQKkcVbwxg4Y6M9cJXw82TuE625rVYgISHW/K3LA1e/frB2rQKXSG5QT5eISCExfc1hxi7ZZd8uX8yHWQNbUaNMEQDmzIHoaGuflxdMmmS9xNowHFGtiOtR6BIRcXGmafLhsn1MWnHA3lazTBFmDWxJuWK+9rapU61erqQkazixWTNHVCviuhS6RERcWKrNZFTIduZtOG5va1qpONP6t6C4n1e6Y4sWhaVLoVQpKFkyvysVcX0KXSIiLiohOZXn5m/ht53h9rYOtQP5/NGmTJ7kwfHj1irzl9PcLZG8o9AlIuKCohOSeWJmKOsPn7G3PdikAq/f0Yi+j7qxaJHV1qIFPPaYg4oUKWT09KKIiIs5HZNAz6/WpQtcg26tSv86jbmldVrgApg+HUzTAUWKFEIKXSIiLuRo1AW6f7mWXaei7W2v3lWHSmfq0qaNwf79accOG2a93kdPJ4rkDw0vioi4iJ0nz9Nv2kYiYxMBcDNg3L2NWD37JiZPTjvO3x+++QZ69nRQoSKFlEKXiIgLWHcoiidmhhKTmAKAt4cbo9o355PhgYSGph1Xpw58/z3Uq+egQkUKMYUuEREn9+uOf3l2/haSUmwABPh4MLRuG4b3LMqZtGld9Ohh9XAFBDioUJFCTnO6RESc2PwNx3h6ziZ74AoM8Oa7J9twV5ui9rlaHh4wcSLMn6/AJeJI6ukSEXFCpmnyxcqDTPhtr72tSik/gge24qaSfoD1Wp8nnrDC1i23OKpSEblEoUtExMnYbCbjftrF9DVH7G21ipVk7lNNKV3E297WuTPs2wc+Pg4oUkQy0PCiiIgTSUqx8fx3W+2ByzQh8Hg91rzVmj1bvTMcr8AlUnCop0tExEnEJaUwZPZm/rcvAgBbkjs+61sQ+ncpwJoov2ULBAU5skoRuRqFLhERJ3D2QhIDZmxk6/FzACRH+ZP0W2uOH0/ryipbFhISHFWhiFyPQpeISAEXdi6evlPXczDiAgAX9pQlZlkTEuPTZogMGgSffabhRJGCTKFLRKQA2x8eQ99pGzh1PgEz1eDcX3WI3ljNvt/HB774AgYMcGCRIpIlCl0iIgXU5mNneXzGRs7FJZMS403Uj01JOFHSvr96dVi4EG6+2YFFikiWKXSJiBRAK/ae5unZm4lPTsVMcSN8dltSon3t+++7D2bOhOLFHVikiNwQLRkhIlLAhGwJ44mZocQnpwJQqpgHI0aYALi5wXvvwQ8/KHCJOBv1dImIFCBTVx9m3NJd9u0KxX2ZNbAl1Ur7ERdp9XB16OC4+kQk+xS6REQKANM0mfDbXr5YeZCk8KIYXinUr+PGrMdbUbaY9UjiRx85uEgRyRGFLhERB0tJtfH6Dzv4NvQ4sdsqcmZ5A4qWTWDmO56ULebl6PJEJJdoTpeIiAMlJKfy1JzNzFsbRtQvDYn6pTFmijvnT/gz7r8KXCKuRD1dIiIOcj4+mSdmhbJmSzyRIbeQFF7Mvq9+fXjuOQcWJyK5TqFLRMQBTkcn0HfaBjav9iVqaTtsiZ72fb17w+TJ4O/vwAJFJNcpdImI5LMjkRfo/fUGtv94E9HratjbPT1h4kQYMgQMw4EFikieUOgSEclHO8LO89hnW9k7ryGJx0rb2ytVggULoGVLBxYnInlKE+lFRPLJ3wcj6TllHUdXl0sXuDp3hk2bFLhEXJ1Cl4hIPvh1xyn6T9tIbGIKxdocwK/SGQzDZMwY+OknKF36upcQESen4UURkTxks5lM/t9BPvhtLzbrTT6ULeHF7B+9iPvXoHNnx9YnIvlHoUtEJI9ExSby+Cd7WRESQIn/WJPjq5X2Z+bjLbmppB80dnSFIpKfFLpERPLA+kNRPPbaSQ79UA8z2QN3vyRu7xXFlD7NKFXE29HliYgDKHSJiOQim83k0+UHGD3Sk+jNDe3tcaE1+Oy7mpQqoqm0IoWVQpeISC6JiEnkycm7+OnjKiSdKmFvr1glhV+WeFC+rAOLExGHU+gSEckFfx+MpP9bxzj4bX1s8WnDh/fcl8rcYA+KFnVgcSJSIKifW0QkB1JtJh8t28c9A6LYP6OJPXC5uZmMn2BjSYi7ApeIAOrpEhHJttMxCTw9dTs/f1aZ+ENl7O2lAlP54Xt32rXTu3xEJI1Cl4hINqw5EMlz87dyOiqV5LP17O1tbrWxaIE7ZTV/S0SuoOFFEZEbYA0n7qX31PVExibi5p1CmQc24elt4+VXTP63wk2BS0QypZ4uEZEsCo9OYOjsrWw8FmVvK13Em4mD6lFlnBsVKjiwOBEp8BS6RESy4K99ETz9xT72z21IsdYH8K93irY1SvHxIzdTJsDH0eWJiBNQ6BIRuYaUVBsfLd/HB1NiifypJWaSJ1G/NuKJB0oxrn8l3N00WV5EskahS0TkKs4k2Hhk8jp+nxVE9Ibm9nZPw50mAZVx16xYEbkBCl0iIplYsfc0r/1q4+ii2iQeL2Vvr1TZZNH3Bs2aObA4EXFKCl0iIpdJTrXxwbK9TJx9jsjFt5J6IW2+1t13mwQHG5Qs6cACRcRpKXSJiFwUdi6eYXO3sGJBCc791QpMa/zQzc1k3DiDV181cNOQoohkk0KXiAjw+65wXlr4Dwe/r0Pstkr29lKlTObPN+jUyYHFiYhLUOgSkUItKcXG+F/38M3qwwD41frXHrrq1TvPb78Vo2JFR1YoIq5CoUtECq3jZ+IYNm8LW4+fs7dVaxrDvWXjKeLmy733bqVixfYOrFBEXIlCl4gUSr/t/JcX523nbLgnnhcfTry9Thk+fLgxxf28MAxYudJ0bJEi4lIUukSkUElKsfHuL7v5+udwIkJakBrrTcXH1zDyoaoMurUablrsVETyiEKXiBQax8/EMXTuZtb95UXk0luxJXgBUCa0PQM/8tSTiSKSpxS6RKRQ+HXHKV76bhsn/qjG+b9r2ts9PEz69FTgEpG8p9AlIi4tMSWVd37azbQ/ThK5pCkJRwLt+ypUMFmwwKBNGwcWKCKFhkKXiLisI5EXGDpvM5s2uhER0o7UGF/7vv/8B+bNMwgMvMYFRERykUKXiLikpdtOMmLhdv5dV4Ezf9QDW9r44euvw9ix4O7uwAJFpNBR6BIRl5KQnMq4pbuYs/4Y8YdKc2Z5A/u+4sVNZs82uOceBxYoIoWWQpeIuIxDEbE8M3cLu09FA+BTNZLAm8OJ2BpE06awcKFB1aoOLlJECi09ryMiLmHx1jC6frbaHrgA7m1Ujq3LSzJ6NKxZgwKXiDiUerpExKklJKcydslO5q49QXRoVYo2O4K3D/z33nr0blUJwzAYM8bRVYqIKHSJiBM7cDqWoXM3s2N/EpGLW5MYVhLfuGL8/IM/9csXc3R5IiLpKHSJiFNatPkEo0J2ELW/OJE/tsIW5w3AqQ3lCdsB9cs7uEARkSsodImIU4lPSuWNxTv4LvQE0eurc+5/tcG03pfo5mby7rsGd9zh4CJFRDKh0CUiTmN/eAxPz9nMnmMJRP3UnPgDQfZ9QUEwf75Bhw6Oq09E5FoUukTEKSwIPc4bi3dy/oQ/ESG3knLO377v1lvh22+hvIYURaQAU+gSkQItLimFUSE7WLQ5jNhtFTmzvAFmStpS8i++CO++C56eDixSRCQLFLpEpMDa+28MT8/ZxMGIC5g2iN12kz1wBQTAtGnQvbuDixQRySItjioiBY5pmny78Rj3TVrNwYgLABhu0HfUKQLLmDRoAKGhClwi4lzU0yUiBUpsYgqjfthOyNaT9jZfT3fGPdCA7s0qMvQWqF4d/P2vcRERkQJIoUtECoxdJ6MZOnczB0/HcW5Vbdy8k2lx/2k+f7QpNYMCAGjUyMFFiohkk0KXiDicaZrM3XCMsUt2EX/eg4gfW5J4rDSGYfLCyFrUDHK//kVERAo4hS4RcaijURcYt3Q3v+8OJ+FECSIXNyU11gcA0zSYO9udLnc6uEgRkVyg0CUiDnEhMYXPVxzgm1WHSUyxERNalbMr64DNer7HMGD0aBg1ysGFiojkEoUuEclXNptJyNYw3vtlD6djErElehD1S2Pi9qatbFqyJMydC507O7BQEZFcptAlIvnmn+PnGLNkJ1uOnQMgKaIIESHNSDlTxH5My5awYAFUquSoKkVE8oZCl4jkudMxCYz/dS8LN52wt8XtDyJqSRNsyWmT5J9+Gj76CLy9HVGliEjeUugSkTyTmJLKjDVH+OzPA8QmptjbvdzdeOD2Unz1sxsJyeDnB1OmwGOPObBYEZE8ptAlIrnONE3+3HOacUt3cSQqLt2+O+oFMeqeulQu5U9jP3jvPfj+e2jQwEHFiojkE4UuEclVB07H8ubSXfxvX0S69sr+xXmrZy3a1Qy0tw0YAD17gq9vflcpIpL/FLpEJFecj0/m0z/2M/PvI6TYTHt7gLcHNU62ZMXk4gQ+bGQ4T4FLRAoLhS4RyZFUm8l3ocf54Le9RF1Isre7GXB/3arsmFObkGXWZPmHHoL166FIkatdTUTEdSl0iUi2bTxyhjE/7mTnyeh07S2rluShSg0Z8VQRjh5Nay9TBhISFLpEpHBS6BKRG3byXDzv/rKHJf+cTNdevpgPr91dl7C15ej7gEFSWscXI0bAW2+Bh37qiEghpR9/IpJlCcmpfPXXIb786wAJyTZ7u4+nG0PaV6dP8+o8/6w7wcFp5xQrBrNmwX33OaBgEZECRKFLRK7LNE1+2fEvb/+0m7Bz8en23duoHK/dXZe4CF863gbbt6fta9zYWg6ievV8LlhEpABS6BKRazoeY6PX1+tYd+hMuvZ65Yoyums9WlUrRUQE1G8B58+n7R8wAD7/XE8niohcotAlIpk6eyGJD5fvZc66eEzSerdK+nvx0p21eaTFTbi7WUtA4tPsNgAAG0NJREFUBAbCM8/AO+9Yr/D5/HMYONBRlYuIFEwKXSKSTkqqjdnrjvLx7/s5H59sb3d3M+jbpjLD/1OLYn6eGc578004dQqGDoWmTfOzYhER56DQJSJ2q/dH8ubSnewLj03X3q5mad64tx41gwIAWLUK6taF0qXTjnF3h2nT8rNaERHn4pYfNzEMw80wjOcNw9hjGEaCYRjHDcP40DAM//y4v4hc27GoOAbPCqX31PXpAlflUn4819SbWY+3pGZQAKYJEyZAx47Wy6lTUx1YtIiIk8mX0AV8DHwE7AKGAQuAZ4ElhmHkVw0icoULiSlM+G0PnT7+i2W7wu3t/l7ujOhSh2XP30aTMh4YhsH589CtG7zyihW2li2D9993YPEiIk4mz4cXDcOojxW0Fpmm+dBl7YeBT4GewNy8rkNE0pimScjWMN77ZQ/h0Ynp9nVrWoFXu9ShTFEfe9u2bdYrfA4cSDuuTRvo2ze/KhYRcX75MaerF2AAn1zR/jXwHtAbhS6RfPPP8XOMXbKTzcfOpWtvfFNxxnStR5NKJdK1//prEJ9+CvGXLc/13HMwfjx4eeVHxSIiriE/QlcLwAZsuLzRNM0EwzC2XtwvInnsdEwCE37dy4JNJ9K1BwZ482qXOjzYpAJuF5eAAOsdic89B1Om1LW3+fvD1KnwyCP5VraIiMvIj/lU5YFI0zQTM9kXBpQ2DMPh/14eM2YMhmFk6WPw4MEZzh88eHCWzx8zZkyG87t27Zrl86dMmZLh/GbNmmX5/CVLlmQ4v3z5/7d37/FR1Xf+x18fQu7hlkAIARIIAt6oogGi7g9lfxW1Ftf2JwoKulXrtvZmu7o+qv5EV13dXmy17WpRqxUEb/RGF9eWuqxVDDddFgWxcgmFKEoSyJVcv/vHmTCTzJBMQmYmmXk/H488hvM953vOd3QyvPme7/l+88Ouv2XLlqD64dY1M8rLO67XV15e3qP6nW3ZsiXsuvn5+UH1V69eHXb9s88+O6j+0qVLw64/b968oPrR+uyNHprOE4/4B2GlJHlL94xc/2OuKB5PUtKggOMnkJ6+mY4fte3cdtuLQYErnj97c+bM0WevDz57Zvre0/deR7H+7MVKNHq6MoBQgQvgaMAxTYE7zOwm4CaA0aNHs27duki1D4C9e/eGfWx5eXlQezr/QnV3rc71Kyoqwq6/c+fOoPo1NTVh19+2bRtDhgzpUNbU1HSco4Nt3ry5R9frbP369YwMmGvg0KFDParf+b3v3Lkz7LpNTU1B9bcFrlvTjZqamhO6fkVFRVD9aH722k3PTWLB1BRGp3/M76oqQxxxJ1AcsL0CuInq6n9g3brcDkfqsxeeRP/s6XtPn71Asf7sxUo0Qlc9kHucfWkBx3TgnFsKLAUoLi52F1xwQUQa164n/0Py8/Pp3J4VK8IfljZhwoSg+jk5OWHXnzp1alD9zl8mXZk2bVpQ/ZQeDM4pLi4O+S+fcJ177rkd/uXV09BwIu89JSUlqH5PvkiHDBkSVP+DDz4Iu35OTk5Q/Wh+9rIzU3jm+pnMnjKqQ5uCfQf4G2CS788/A/TZ02evY31974VPn72O9WP92YsVc85F9gJmrwKfBTI632I0szeBKc65USEr+xQXF7vNmzdHsJUi8aH6aDOPrv0Lz6zfS0ub/3d7SNpgvv3ZKSw+p5DkpPBGFWzfDtXVcPToun7zhRVt69Yl7nsXkd4zsy3OueLO5dHo6doEzAVmAn8OaFAacCbwehTaIBLXWtscL23+K99/dScVdf5bJmawcGYB/3jhFHKyUkPWLS2FNWu8ZXwCnXqq99pPeuVFRAa8aISuF4A7gFsICF3Al/HGcj0XhTaIxK3Neyu5Z/V7vHugukP5zAnZLLnsVE7LHxaynnPewtTf+Q40N8OkSXDdddFosYhIYop46HLObTOznwFfN7NfAWuAU/BmpP8vNEeXSK98dKSBB9e8z++2dhwbkj8sjTsuPYVLp40J+dQTQG0tfPnL8Pzz/rI77/SmgkhLC1lFREROULQWvL4F2Iv3NOKlwCHgJ8Ddzrm2KLVBJC4cbW7lidd382/rdtHQ7F/8MHWwNwXEV86fRHpK0nHr79jhzS6/Y4e/7Kyz4OWXFbhERCIpKqHLOdcK/ND3IyK94JzjP979mAfW7GB/VUOHfZd+ZgzfveRkxo3I6PIcL74I118PdXX+sptugkceUeASEYm0aPV0icgJ2F5ezX2/385buzvOa3TKmKEsmXcqJUVdP3rf1OQtVP3II/6ytDR4/HGN4xIRiRaFLpF+qrm1jT+8d5BlpXsp3d1xAtMRGcncetFUFswoIGlQ6HFb7Q4cgCuvhPXr/WUnnQSrVsFnPhOJlouISCgKXSL9zMdHjrJy4z5WbtzHJzUdF3NIGmRce04ht/zfKQzLSA7rfM5B4DyGl18OzzwDw0I/1CgiIhGi0CXSDzjneGtXBctKy/jD9oO0tnWctDhpkDH31NF858IpTB4d/kzUAOPGwcqVcOmlcP/9cOut3vxdIiISXQpdIjFUfbSZX23Zz7LSMnZ9Whe0P3dIKgtnFrBwZgF5w8Ib6d7SAoM7/WZ/9rOwa5cXwEREJDYUukRiYHt5NctKy/jNOwc6TPvQrqQom8UlE5h72uiwl+0BePttWLAAnngCzj+/4z4FLhGR2FLoEomSxpZWXtn2MctKy9hSVhW0Pyt1MP/vrLEsKins8S1EgKeegq99DRobvUlO33kHxozpi5aLiEhfUOgSibD9VfWs2LCPFzb9tcO6iO1OzhvCopJCLp8+lqzUnv9KNjR4Yevpp/1l9fXw/vsKXSIi/YlCl0gEtLU5Xv/LpywvLeO19z+h07h4kpOMS04fw+JzCikuHHHc5Xq6s2uXN7v81q3+smnTvNnlp0w5gTcgIiJ9TqFLpA8drm/ipc37Wb6hjLKK+qD9+cPSuHpWAVfOGE/ukBObAv63v/UmNj1yxF+2eLE34WlG1xPTi4hIDCh0ifSBrX89zLLSMlZvLaexJXg50f8zeSSLSwr525NzGdyDgfGhtLTAXXfBv/6rvywlBR591FvSR9NBiIj0TwpdIr10tLmV1VvLWVZaxv/sPxK0f2jaYOYXj+eaWQUUjcrqk2s6B5ddBq+84i8rLPRuJxYX98klREQkQhS6RHpo76E6nttQxoub93OkoTlo/+ljh3JtyQTmnZFPekpSn17bDL74RX/ouvhiWL4ccrpeelFERPoBhS6RMLS2Of7z/U94trSM1z/4NGh/yuBBfP4zY7j2nAmcMW5YrwfGh+OGG6C01OvhuvNOGHRidytFRCRKFLpEunCotpEXNv2VFRv2ceBwQ9D+8dnpLJpVyPzi8WRnpvT59auroarKC1jtzLzJTzV2S0RkYFHoEunEOceWsiqWlZaxZttHNLd2nO/BDOZMzWXxOYWcP3kUgwZFJv28+643HURKitezlZnZsQ0iIjKwKHSJ+NQ1tvDb//YGxu/4qDpo/4iMZK6aUcA1swoYnx3ZORmee857ErHeN+vEV78Kzz4b0UuKiEiEKXRJwvvwkxqWl+5j1Zb91DS2BO2fXjCcxSWFfG7aGNKS+3ZgfGeNjfDtb8Njj/nLMjK8AfMiIjKwKXRJQmpubWPt9oMsKy1j/a6KoP1pyYO4/ExvHcTTxw6LSpv27YMrroBNm/xlU6fCqlVw2mlRaYKIiESQQpcklIPVR1m5cR8rN+7jYHVj0P6JIzNZVFLIFWeNY1hGctTa9eqrcM01UBGQ/+bP9xaxHtLzta9FRKQfUuiSuOeco3R3JctLy3j1vY9p6bQQ4iCDC08dzeKSCZw7KSdiA+NDaWuD++6De+/1Jj4FGDwYvv99+Na3NGBeRCSeKHRJ3Ko+2syv3z7AstIyPvykNmj/yKxUFs4cz8KZBeQPT49BC+Hpp+Gee/zb+fnw4otw3nkxaY6IiESQQpfEnR0fVbOstIzfvHOA+qbWoP0zJ2azuKSQi07LI2VwbGcWve46b0b5detgzhxYuRJGj45pk0REJEIUuiQuNLW08cq7H7G8tIxNe6uC9memJPGFs7yB8SfnDY1BC0MbPBiefx6efBJuv93bFhGR+KSveBmQnHPs+rSO0t0VbNhTyZsfHqKyrinouMm5WVx7TiGXTx/LkLToDYwPpa4OHn8cbrkFkgJmnhg92lvOR0RE4ptClwwIXsiq5a3dlV7Q2l3Jodrgpw8BBg8yLjo9j2tLCpk5MTui6yCG64MPvNnl330XamthyZJYt0hERKJNoUv6JeccH35SS+nuCkp3V7JhTwWHaoN7sgLlDU3j6lkFLJgxntyhaVFqafdWrYIvfQlqarzte++FL34Rpk2LbbtERCS6FLqkX3DO8ZdjIcvryaoIcbsw0NC0wcycmENJUTYlRTmcMmYoSVGc7qE7zc3w3e/CD3/oL0tNhZ/9TIFLRCQRKXRJTLS1dQpZeypDjskKNCw9mVkTs5lV5AWtk/P6V8gKVF4OV10Fb7zhLysqgpdfhunTY9cuERGJHYUuiYq2NsfOgzVsCLhdWFXf3GWd4RleyCopymHWxBxOzhsS1YlLe2vdOliwAA4e9JfNmwe//CWMGBGzZomISIwpdElEtLU53v+4hg17/D1Zh7sJWSMykpnlu104qyiHqaMHRshq5xx873twxx3eTPMAgwbBAw/AP/2T92cREUlcCl3SJ9raHDs+rvZ6sXZXsHFv9yErOzPlWE9WSVEOk3OzBlTI6qy+Hn7xC3/gys315uCaMye27RIRkf5BoUt6pbXNseOj6mO9WBv3VHKkoeuQlZOZwqwif8g6adTADlmdZWZ6TyrOmgVnnukt5zN2bKxbJSIi/YVCl4QlMGSV7q5g455Kqo+2dFlnZFbKsduFJUU5nJSb1S/mzIqk00/3xnSdeSYkx3YuVhER6WcUuiSk1jbH9vKAkLW3kppuQ1bqsfFY5xRlM2lU/Iaso0fhm9+E2bNh0aKO+2bMiE2bRESkf1PoEgBaWtvYfqwnq5JNeyqpaew6ZI0akup7stDryZo0KjNuQ1agPXvgiivg7be9xarPOEPzbomISPcUuhJUS2sb7wX0ZG3aW0VtNyEr1xeySopymFWUTdHIxAhZgf79372ercOHve2GBnjuOXjoodi2S0RE+j+FrgTR0trGtgNH2LDHW7twcxgha/RQf8gqKcphQk5GwoWsdq2t3nqJDzzgL0tOhh/9CG6+OXbtEhGRgUOhawBrbXMcrm+ioq6JitomKuuaqKxr7LBdUddIZV0T+6saqG9q7fJ8eUPTjg16LynKoTCBQ1agTz+FhQvhT3/yl40fDy+95D2pKCIiEg6Frn6kpbWNqvrmDmGpsq6JQ7VemKr0hakKX3lVfRPO9f56Y4al+QKWF7QKshWyOnvrLZg/Hw4c8JddeCGsWAEjR8auXSIiMvAodEVQS2sblfW+Hqja9h4pX3jyBScvRHllhxuaTyhEdSd/WBolk3Iomej1ZI3PTlfI6sKTT8JXvwotAXdh777b+0lKil27RERkYFLo6oHm1jaqAgLToVp/b1SoQNXdjOx9YVh6MjmZKWT7fnKyUo9t52SlkJOZSnZmCiOHpDAqK1UhqwcKCryxXADZ2d6TipdcEts2iYjIwJXwoetIfTMHDjcc623yj4Xyh6j27e5mXO8LwzOSvcCU6QtMWSkdQtXIrNRj+0dkppCcpAX9ImXuXLjnHli92hu/NWFCrFskIiIDWcKHrqfe2M2jr30YkXObwfD09hCVSk5WyrHA1KFXylc+IkMhKpYqKiAnp2PZXXfB7bdDamps2iQiIvEj4UNXdmZK2MeawYiMwF6n9j974ckfqlJ9ISqZwQpR/V5TE9x6K7z8sjfhaV6ef9+gQQpcIiLSNxI+dOUPT2dyblaH8U/+QJUaMDYqheEZKSTF0QLNAvv3e08nlpZ62wsWwNq1MDjhfzNERKSvJfxfLXNPy2PuaXndHyhxZ+1ab/6tQ4f8ZdnZ3rqKWVmxa5eIiMQn3fuShNPW5s0sP3euP3AlJcEPfgCrVilwiYhIZCR8T5cklqoqWLzYW0OxXV4evPACzJ4du3aJiEj8i0pPl5llmNndZvaemTWYWaWZvWVmX4jG9UXAGyR/1lkdA9fs2V65ApeIiERaxHu6zGwE8CdgMvA08DCQCZwCFEb6+iIAO3fCuedCY6O/7Lbb4F/+RYPmRUQkOqLx182jwEnALOfc9ihcTyTIlClw1VXw7LMwdCg88wx8Qf2sIiISRRENXWY2Abga+LFzbruZJQHpzrnaSF5XpDMzeOwxaG6Ge++FyZNj3SIREUk0kR7TdbHvGtvNbBlQD9SY2X4z+3aEry0J7A9/gPr6jmUZGbBihQKXiIjERqRD11Tf64PA2cBXgEXAHuBhM7s3wteXBNPS4i3bc9FFcPPN4FysWyQiIuIxF8bfSmY2HLilB+d91DlXaWZPAjcAR4BJzrkK3/mSge3AOCDfOVcV4po3ATf5NqcCO3twfRHpOyOBQ90eFZ8S+b2LSO8VOudGdS4Md0zXcGBJDy62HKgEGnzbv28PXADOuWYzWwHcDZQAr3Q+gXNuKbC0B9cUkQgws83OueJYtyMWEvm9i0jfCyt0Oef2Ar1ZdHC/7/XjEPs+8r2O6MV5RURERAaUSI/p2uh7HRdiX3vZJxFug4iIiEjMRTp0vQ6UAfPMbGx7oZllAtcCh4G3ItwGETkxiXybP5Hfu4j0sbAG0p/QBcw+B/wOKAf+DWgCvgScDtzgnPtFRBsgIiIi0g9EPHQBmNn5eAPxZwBJwDvAQ8651RG/uIiIiEg/EJXQJSIiIpLoIj2mS0QizMymmNk/m1mpmX1qZjVm9t9mdqdv/GR39ZPN7HEz22Jmh8ys0cz2mNkLZjY9xPEXmJk7zs/ve3Bs+895J/Dep5rZc2a2w8yOmFm9mb1vZg+b2Zgwz3GlmT1tZlvNrNnXpgldHJ9vZs/6/ls3mNlmM5sf4rgsM1tiZr/zrcLhzGxdb9+riAx80VjwWkQi63rga3hjJ58DmoE5wP3AlWZW4pxr6KJ+ClAMvAksA2qAAryxlxvM7GLn3Gsh6i0F/typbH+n7R3A4hB1U331D+F/yrk3xgFjgF/7rt0CTMObWHmBmZ3pnOvuCembgVnAVmAX/pU0gphZNvAGkAs87Lvm1cCLZna9c+7pgMNHAvcAB4EtwOievjkRiS+6vSgywJlZMfAX59yRTuX3A3cC33DO/bQX5x0D7AP+6Jz7XED5BcB/Al9yzj3TyzYvBFYAP3DO3dabc3Rz/vnAi8DtzrnvdXNsAVDunGsxs5/iBdiJvvkJOx/7PeA24LL2MalmloT3FPYkvFmoa33lqcAo59x+33YtsNk5d0HfvEsRGWh0e1FkgHPObe4cuHxe8L2e3stTfwIcpYsJjM0s08zSenHuG32vT/amYWEo8712O/myc26fc64lzPNeDewKfAjIOdcK/ATIBj4XUN7YHrhEREChSySetU9AfDCcg80sycxGmlmemc3A64nKAtYcp8ojQC3QYGYfmNm3zKzblSvMbCLe7c83nHN9sqaqmaX52j7OzOYCP/ftOl7be3ONMcBYoDTE7vayGX11PRGJPxrTJRKHfLe8/j/eGKcVYVY7BdgWsH0EeND3E6gZb/zYGrz59/LxFrb/MXAm3liwrlyPt6xYX/Zy3YjX29RuL7DIOdd5zNmJyPe9Hgixr71sbIh9IiKAQpdIvPoxcA5wRw96k/YAF+INrD8JWAQMwxv0fuz2m3PuTeDvAiua2RN4IezvzexJ3zFBfGHw74Fq4KUevJ/u/AZ4H69nbjpwGd5A9r6U4XttDLHvaKdjRESCKHSJxBkzuw/4OrDUOde5l+q4nHN1wNqA8/wCeBtYBVzcTd02M3sQuAi4FO9JyFAuwrvt+XPnXH24beuOb+xU+/ip35jZKmCTmWX05L9BN9rbmxpiX1qnY0REgmhMl0gcMbN7gLuAp4GvnMi5fE/h/Qq4yMwmhVFlr++1qx6mG3yvkRpAD4Bz7n/wVr64uQ9PW+57DXULsb0s1K1HERFAoUskbvgC1xLgl8CNrm/mg0n3vWaHcexk32vIgftmlgvMA7Y65zb3Qdu6k0547Q6Lc+4jvFBVEmJ3e1k03peIDFAKXSJxwMzuxgtcy4DrnXNtxzlujJmdbGYZAWWjzCzou8DM8oD5eE8ovhdQnhPi2FS8iUABjrem6rVAMvBUOO8pHL42hiqfgzdVRmlAWdB774WVwCQzmxdw3iTgG8Bh+vBpSRGJPxrTJTLAmdnXgHvxJjJdC1zdaeaGg865P/r+/CBwHd6UDet8ZdcAt5jZr/EG0zcBU3zHjcDrNQscq/QfZlaON8t6+9OLi/B6un7inDveDPM34A04X97rNxvsMd9UDq/hzc2VBpwNLMCbWf8fA44N9d4xs9nAbN9mse/162Z2GMA5d3/AOR7CC6IrzOxhvJ6vhXhTRdzonKsJbJyZfR0Y7ttMBgrN7C7f9tbA+b5EJP4pdIkMfO1zQxXg3Vrs7L+AP4Yob/dnvLDxebwldVLwbhGuBR5xzq3vdPzLwOV4vTvDgTq88VNLnHMrQ13AzM4FTgZWOOeqwnhP4VqJ14O2GBgFOLzw9XPg+865fWGc42/xegkDBYa1Y6HLOVfhWyvyIbyZ67OA7cAC59wLBLsVKAzYngDc5/vzLzl+r6CIxCEtAyQiIiISBRrTJSIiIhIFCl0iIiIiUaDQJSIiIhIFCl0iIiIiUaDQJSIiIhIFCl0iIiIiUaDQJSIiIhIFCl0iIiIiUaDQJSIiIhIFCl0iIiIiUaDQJSIiIhIFCl0ikhDMLN3M9pvZPjNL7bTvSTNrNbMFsWqfiMQ/hS4RSQjOuQZgCTAeuLm93MweBG4AvuGcez5GzRORBGDOuVi3QUQkKswsCdgK5AJFwI3Aj4Alzrl/jmXbRCT+KXSJSEIxs88Dq4HXgDnAT51z34xtq0QkESh0iUjCMbO3genA88DVTl+EIhIFGtMlIgnFzK4CzvBt1ihwiUi0qKdLRBKGmc3Fu7W4GmgG5gPTnHM7YtowEUkICl0ikhDMbBbwJ2AjcAkwDtgBrHHOXR7LtolIYtDtRRGJe2Z2KrAG+AC43DnX6JzbBTwF/J2ZnRfTBopIQlBPl4jENTMrAN4EGoHznHMHA/blAx8C7zjnFLxEJKIUukRERESiQLcXRURERKJAoUtEREQkChS6RERERKJAoUtEREQkChS6RERERKJAoUtEREQkChS6RERERKJAoUtEREQkChS6RERERKJAoUtEREQkCv4XdswbWkOYS/8AAAAASUVORK5CYII=\n",
                  "text/plain": "<Figure size 720x432 with 1 Axes>"
                },
                "metadata": {
                  "needs_background": "light"
                }
              }
            ],
            "_view_module": "@jupyter-widgets/output",
            "_model_module_version": "1.0.0",
            "_view_count": null,
            "_view_module_version": "1.0.0",
            "layout": "IPY_MODEL_537a8f562d3c4885bd5fccadbb5c7882",
            "_model_module": "@jupyter-widgets/output"
          }
        },
        "f11062307a4e4b1596b00c77faf8fb17": {
          "model_module": "@jupyter-widgets/controls",
          "model_name": "SliderStyleModel",
          "model_module_version": "1.5.0",
          "state": {
            "_view_name": "StyleView",
            "handle_color": null,
            "_model_name": "SliderStyleModel",
            "description_width": "",
            "_view_module": "@jupyter-widgets/base",
            "_model_module_version": "1.5.0",
            "_view_count": null,
            "_view_module_version": "1.2.0",
            "_model_module": "@jupyter-widgets/controls"
          }
        },
        "88470f1bad3342b78814b539470dc023": {
          "model_module": "@jupyter-widgets/base",
          "model_name": "LayoutModel",
          "model_module_version": "1.2.0",
          "state": {
            "_view_name": "LayoutView",
            "grid_template_rows": null,
            "right": null,
            "justify_content": null,
            "_view_module": "@jupyter-widgets/base",
            "overflow": null,
            "_model_module_version": "1.2.0",
            "_view_count": null,
            "flex_flow": null,
            "width": null,
            "min_width": null,
            "border": null,
            "align_items": null,
            "bottom": null,
            "_model_module": "@jupyter-widgets/base",
            "top": null,
            "grid_column": null,
            "overflow_y": null,
            "overflow_x": null,
            "grid_auto_flow": null,
            "grid_area": null,
            "grid_template_columns": null,
            "flex": null,
            "_model_name": "LayoutModel",
            "justify_items": null,
            "grid_row": null,
            "max_height": null,
            "align_content": null,
            "visibility": null,
            "align_self": null,
            "height": null,
            "min_height": null,
            "padding": null,
            "grid_auto_rows": null,
            "grid_gap": null,
            "max_width": null,
            "order": null,
            "_view_module_version": "1.2.0",
            "grid_template_areas": null,
            "object_position": null,
            "object_fit": null,
            "grid_auto_columns": null,
            "margin": null,
            "display": null,
            "left": null
          }
        },
        "537a8f562d3c4885bd5fccadbb5c7882": {
          "model_module": "@jupyter-widgets/base",
          "model_name": "LayoutModel",
          "model_module_version": "1.2.0",
          "state": {
            "_view_name": "LayoutView",
            "grid_template_rows": null,
            "right": null,
            "justify_content": null,
            "_view_module": "@jupyter-widgets/base",
            "overflow": null,
            "_model_module_version": "1.2.0",
            "_view_count": null,
            "flex_flow": null,
            "width": null,
            "min_width": null,
            "border": null,
            "align_items": null,
            "bottom": null,
            "_model_module": "@jupyter-widgets/base",
            "top": null,
            "grid_column": null,
            "overflow_y": null,
            "overflow_x": null,
            "grid_auto_flow": null,
            "grid_area": null,
            "grid_template_columns": null,
            "flex": null,
            "_model_name": "LayoutModel",
            "justify_items": null,
            "grid_row": null,
            "max_height": null,
            "align_content": null,
            "visibility": null,
            "align_self": null,
            "height": null,
            "min_height": null,
            "padding": null,
            "grid_auto_rows": null,
            "grid_gap": null,
            "max_width": null,
            "order": null,
            "_view_module_version": "1.2.0",
            "grid_template_areas": null,
            "object_position": null,
            "object_fit": null,
            "grid_auto_columns": null,
            "margin": null,
            "display": null,
            "left": null
          }
        }
      }
    }
  },
  "cells": [
    {
      "cell_type": "markdown",
      "source": [
        "**Author**: Luca Giaccone (luca.giaccone@polito.it)\n"
      ],
      "metadata": {
        "id": "qbdq9LE4qrtz"
      }
    },
    {
      "cell_type": "markdown",
      "source": [
        "# Esempio di computational notebook (4)\n",
        "Troviamo la soluzione del problema non-lineare\n",
        "\n",
        "$$x^2 = 5$$\n",
        "\n",
        "applicando il metodo delle tangenti.\n",
        "\n",
        "Trasformiamo il problema in:\n",
        "\n",
        "$$f(x) = x^2 - 5 = 0$$\n",
        "\n",
        "Applichiamo lo schema rosolutivo:\n",
        "\n",
        "$$x_{k+1} = x_k - \\dfrac{f(x_k)}{f'(x_k)}$$\n",
        "\n",
        "dove, nel nostro caso:\n",
        "* $f(x) = x^2 - 5$\n",
        "* $f'(x) = 2x$\n",
        "\n"
      ],
      "metadata": {
        "id": "tLMeffxp33Lb"
      }
    },
    {
      "cell_type": "markdown",
      "source": [
        "## Visualizziamo il problema graficamente"
      ],
      "metadata": {
        "id": "nNyGLsUdbqvR"
      }
    },
    {
      "cell_type": "code",
      "execution_count": 1,
      "metadata": {
        "id": "7_l-m8Xz3k08"
      },
      "outputs": [],
      "source": [
        "# libraries\n",
        "import numpy as np\n",
        "import matplotlib.pyplot as plt\n",
        "from ipywidgets import interact, IntSlider\n",
        "from matplotlib.ticker import FormatStrFormatter"
      ]
    },
    {
      "cell_type": "code",
      "source": [
        "# funzione f\n",
        "f = lambda x: x**2 - 5"
      ],
      "metadata": {
        "id": "gqz9AF-bdOsP"
      },
      "execution_count": 2,
      "outputs": []
    },
    {
      "cell_type": "code",
      "source": [
        "# static plot\n",
        "x = np.linspace(1, 4, 10)\n",
        "plt.figure(figsize=(10,6))\n",
        "plt.plot(x, f(x), linewidth=3, label=\"$f(x) = x^2 - 5$\")\n",
        "plt.plot(x, np.zeros_like(x), 'k--', linewidth=3)\n",
        "plt.grid()\n",
        "plt.xticks([1, np.sqrt(5), 4], fontsize=18)\n",
        "plt.yticks([0], fontsize=18)\n",
        "plt.xlabel('$x$', fontsize=18)\n",
        "plt.legend(fontsize=18)\n",
        "plt.title(\"la soluzione è {:.3f}\".format(np.sqrt(5)),fontsize=18);"
      ],
      "metadata": {
        "colab": {
          "base_uri": "https://localhost:8080/",
          "height": 424
        },
        "id": "4NMnFkcPDHB5",
        "outputId": "b38ca9f1-2592-4422-e240-50fcde6acee0"
      },
      "execution_count": 3,
      "outputs": [
        {
          "output_type": "display_data",
          "data": {
            "image/png": "[encoded data removed]",
            "text/plain": [
              "<Figure size 720x432 with 1 Axes>"
            ]
          },
          "metadata": {
            "needs_background": "light"
          }
        }
      ]
    },
    {
      "cell_type": "markdown",
      "source": [
        "## Implementiamo il metodo delle tangenti"
      ],
      "metadata": {
        "id": "X_Tt82Efc6Ck"
      }
    },
    {
      "cell_type": "code",
      "source": [
        "# funzione f'\n",
        "fprime = lambda x: 2*x\n",
        "\n",
        "# step che dato x_k in input, fornisce x_k+1 in output\n",
        "def next(x):\n",
        "  return x - (f(x) / fprime(x))\n",
        "\n",
        "# funzione che calcola la tangente in xk\n",
        "def tangent(x, xk):\n",
        "  return f(xk) + fprime(xk) * (x - xk)"
      ],
      "metadata": {
        "id": "BchVaqWE4Oz8"
      },
      "execution_count": 4,
      "outputs": []
    },
    {
      "cell_type": "markdown",
      "source": [
        "## Visualizzazione in forma numerica"
      ],
      "metadata": {
        "id": "OxEXL8-FdmOm"
      }
    },
    {
      "cell_type": "code",
      "source": [
        "# Valore iniziale e numero di iterazioni\n",
        "x0 = 0.5\n",
        "iter_num = 7\n",
        "\n",
        "x = [x0]\n",
        "print(\"       x0 = {:.3f}\".format(x[-1]))\n",
        "for k in range(iter_num):\n",
        "  x.append(next(x[-1]))\n",
        "  delta = abs((x[-1] - x[-2]) / x[-2]) * 100\n",
        "  print(\"x{} --> x{} = {:.3f}   variazione {:.2f} %\".format(k, k+1, x[-1], delta))"
      ],
      "metadata": {
        "id": "mWyosM8AzW8G",
        "colab": {
          "base_uri": "https://localhost:8080/"
        },
        "outputId": "356d12a6-5a79-461d-e2ca-ee8ff2bd7dfe"
      },
      "execution_count": 5,
      "outputs": [
        {
          "output_type": "stream",
          "name": "stdout",
          "text": [
            "       x0 = 0.500\n",
            "x0 --> x1 = 5.250   variazione 950.00 %\n",
            "x1 --> x2 = 3.101   variazione 40.93 %\n",
            "x2 --> x3 = 2.357   variazione 24.01 %\n",
            "x3 --> x4 = 2.239   variazione 4.99 %\n",
            "x4 --> x5 = 2.236   variazione 0.14 %\n",
            "x5 --> x6 = 2.236   variazione 0.00 %\n",
            "x6 --> x7 = 2.236   variazione 0.00 %\n"
          ]
        }
      ]
    },
    {
      "cell_type": "markdown",
      "source": [
        "## Visualizzazione in forma grafica"
      ],
      "metadata": {
        "id": "kvtVtaMSeQXb"
      }
    },
    {
      "cell_type": "code",
      "source": [
        "# Valore iniziale e numero di iterazioni\n",
        "x0 = 0.5\n",
        "iter_num = 3\n",
        "\n",
        "def fun(iter_num):\n",
        "  xnew = x0\n",
        "  for k in range(iter_num):\n",
        "    xold = xnew\n",
        "    xnew = next(xnew)\n",
        "    \n",
        "  x = np.linspace(0, 6, 10)\n",
        "  plt.figure(figsize=(10,6))\n",
        "  plt.plot(x, f(x), linewidth=3, label=\"$f(x) = x^2 - 5$\")\n",
        "  plt.plot(x, np.zeros_like(x), 'k--', linewidth=3)\n",
        "  plt.plot(x, tangent(x, xold), 'b--', linewidth=3, label=\"tangente in {:.3f}\".format(xold))\n",
        "  plt.grid()\n",
        "  if abs(xold -xnew) < 0.5:\n",
        "    plt.xticks(sorted([xnew]), fontsize=18)\n",
        "  else:\n",
        "    plt.xticks(sorted([xold, xnew]), fontsize=18)\n",
        "  plt.yticks([-6, 0, 25], fontsize=18)\n",
        "  plt.ylim(-6, 25)\n",
        "  plt.xlabel('$x$', fontsize=18)\n",
        "  plt.legend(fontsize=18)\n",
        "  ax = plt.gca()\n",
        "  ax.xaxis.set_major_formatter(FormatStrFormatter('%.3f'))\n",
        "  # plt.title(\"la soluzione è {:.3f}\".format(np.sqrt(5)),fontsize=18);"
      ],
      "metadata": {
        "id": "JUvwM2QZEuvC"
      },
      "execution_count": 6,
      "outputs": []
    },
    {
      "cell_type": "code",
      "source": [
        "interact(fun, iter_num=IntSlider(min=1, max=10, step=1, continuous_update=True));"
      ],
      "metadata": {
        "colab": {
          "base_uri": "https://localhost:8080/",
          "height": 443,
          "referenced_widgets": [
            "8e3549be42364acc9d1224051dd42b2b",
            "4191095b3a2b4650b950127c751cd614",
            "e84e81fa702e4cdeb86682d7aa61d2f6",
            "2d58507ca3e74f198776c992670812b5",
            "f11062307a4e4b1596b00c77faf8fb17",
            "88470f1bad3342b78814b539470dc023",
            "537a8f562d3c4885bd5fccadbb5c7882"
          ]
        },
        "id": "S60unoyVE2-C",
        "outputId": "ccab1baf-5467-45c0-e1f1-8b4de0de1c17"
      },
      "execution_count": 7,
      "outputs": [
        {
          "output_type": "display_data",
          "data": {
            "application/vnd.jupyter.widget-view+json": {
              "model_id": "8e3549be42364acc9d1224051dd42b2b",
              "version_minor": 0,
              "version_major": 2
            },
            "text/plain": [
              "interactive(children=(IntSlider(value=1, description='iter_num', max=10, min=1), Output()), _dom_classes=('wid…"
            ]
          },
          "metadata": {}
        }
      ]
    },
    {
      "cell_type": "code",
      "source": [
        ""
      ],
      "metadata": {
        "id": "SP0haxrVgcsu"
      },
      "execution_count": 7,
      "outputs": []
    }
  ]
}